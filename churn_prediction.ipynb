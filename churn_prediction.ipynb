{
 "cells": [
  {
   "cell_type": "markdown",
   "metadata": {},
   "source": [
    "# Прогноз оттока. Кластеризация клиентов фитнес-центра\n",
    "## Описание проекта\n",
    "Сеть фитнес-центров «Культурист-датасаентист» разрабатывает стратегию взаимодействия с клиентами на основе аналитических данных.\n",
    "\n",
    "Распространённая проблема фитнес-клубов и других сервисов — отток клиентов. Как понять, что клиент больше не с вами? Можно записать в отток тех, кто попросил закрыть договор или удалил аккаунт. Однако клиенты не всегда уходят демонстративно: чаще перестают пользоваться сервисом тихо.\n",
    "\n",
    "Индикаторы оттока зависят от специфики отрасли. Когда пользователь редко, но стабильно закупается в интернет-магазине — не похоже, что он «отвалился». А вот если две недели не заходит на канал с ежедневно обновляемым контентом, дела плохи: подписчик заскучал и, кажется, оставил вас.\n",
    "\n",
    "Для фитнес-центра можно считать, что клиент попал в отток, если за последний месяц ни разу не посетил спортзал. Конечно, не исключено, что он уехал на Бали и по приезде обязательно продолжит ходить на фитнес. Однако чаще бывает наоборот. Если клиент начал новую жизнь с понедельника, немного походил в спортзал, а потом пропал — скорее всего, он не вернётся.\n",
    "\n",
    "Чтобы бороться с оттоком, отдел по работе с клиентами «Культуриста-датасаентиста» перевёл в электронный вид множество клиентских анкет. \n",
    "\n",
    "Задача — провести анализ и подготовить план действий по удержанию клиентов.\n",
    "\n",
    "А именно:\n",
    "1. Научиться прогнозировать вероятность оттока (на уровне следующего месяца) для каждого клиента;\n",
    "2. Сформировать типичные портреты клиентов: выделить несколько наиболее ярких групп и охарактеризовать их основные свойства;\n",
    "3. Проанализировать основные признаки, наиболее сильно влияющие на отток;\n",
    "4. Сформулировать основные выводы и разработать рекомендации по повышению качества работы с клиентами:\n",
    "- Выделить целевые группы клиентов;\n",
    "- Предложить меры по снижению оттока;\n",
    "- Определить другие особенности взаимодействия с клиентами."
   ]
  },
  {
   "cell_type": "markdown",
   "metadata": {},
   "source": [
    "## Загрузка данных"
   ]
  },
  {
   "cell_type": "code",
   "execution_count": 1,
   "metadata": {},
   "outputs": [],
   "source": [
    "# импорт необходимых библиотек\n",
    "import warnings\n",
    "warnings.simplefilter(action='ignore', category=FutureWarning)\n",
    "import pandas as pd\n",
    "import numpy as np\n",
    "import matplotlib.pyplot as plt\n",
    "import seaborn as sns\n",
    "sns.color_palette('Blues', as_cmap=True)\n",
    "from sklearn.model_selection import train_test_split\n",
    "from sklearn.preprocessing import StandardScaler\n",
    "from sklearn.linear_model import LogisticRegression\n",
    "from sklearn.ensemble import RandomForestClassifier\n",
    "from sklearn.metrics import accuracy_score, precision_score, recall_score, f1_score, roc_auc_score\n",
    "from sklearn.metrics import roc_curve\n",
    "from scipy.cluster.hierarchy import dendrogram, linkage \n",
    "from sklearn.cluster import KMeans"
   ]
  },
  {
   "cell_type": "code",
   "execution_count": 2,
   "metadata": {},
   "outputs": [
    {
     "data": {
      "text/html": [
       "<div>\n",
       "<style scoped>\n",
       "    .dataframe tbody tr th:only-of-type {\n",
       "        vertical-align: middle;\n",
       "    }\n",
       "\n",
       "    .dataframe tbody tr th {\n",
       "        vertical-align: top;\n",
       "    }\n",
       "\n",
       "    .dataframe thead th {\n",
       "        text-align: right;\n",
       "    }\n",
       "</style>\n",
       "<table border=\"1\" class=\"dataframe\">\n",
       "  <thead>\n",
       "    <tr style=\"text-align: right;\">\n",
       "      <th></th>\n",
       "      <th>gender</th>\n",
       "      <th>Near_Location</th>\n",
       "      <th>Partner</th>\n",
       "      <th>Promo_friends</th>\n",
       "      <th>Phone</th>\n",
       "      <th>Contract_period</th>\n",
       "      <th>Group_visits</th>\n",
       "      <th>Age</th>\n",
       "      <th>Avg_additional_charges_total</th>\n",
       "      <th>Month_to_end_contract</th>\n",
       "      <th>Lifetime</th>\n",
       "      <th>Avg_class_frequency_total</th>\n",
       "      <th>Avg_class_frequency_current_month</th>\n",
       "      <th>Churn</th>\n",
       "    </tr>\n",
       "  </thead>\n",
       "  <tbody>\n",
       "    <tr>\n",
       "      <th>0</th>\n",
       "      <td>1</td>\n",
       "      <td>1</td>\n",
       "      <td>1</td>\n",
       "      <td>1</td>\n",
       "      <td>0</td>\n",
       "      <td>6</td>\n",
       "      <td>1</td>\n",
       "      <td>29</td>\n",
       "      <td>14.227470</td>\n",
       "      <td>5.0</td>\n",
       "      <td>3</td>\n",
       "      <td>0.020398</td>\n",
       "      <td>0.000000</td>\n",
       "      <td>0</td>\n",
       "    </tr>\n",
       "    <tr>\n",
       "      <th>1</th>\n",
       "      <td>0</td>\n",
       "      <td>1</td>\n",
       "      <td>0</td>\n",
       "      <td>0</td>\n",
       "      <td>1</td>\n",
       "      <td>12</td>\n",
       "      <td>1</td>\n",
       "      <td>31</td>\n",
       "      <td>113.202938</td>\n",
       "      <td>12.0</td>\n",
       "      <td>7</td>\n",
       "      <td>1.922936</td>\n",
       "      <td>1.910244</td>\n",
       "      <td>0</td>\n",
       "    </tr>\n",
       "    <tr>\n",
       "      <th>2</th>\n",
       "      <td>0</td>\n",
       "      <td>1</td>\n",
       "      <td>1</td>\n",
       "      <td>0</td>\n",
       "      <td>1</td>\n",
       "      <td>1</td>\n",
       "      <td>0</td>\n",
       "      <td>28</td>\n",
       "      <td>129.448479</td>\n",
       "      <td>1.0</td>\n",
       "      <td>2</td>\n",
       "      <td>1.859098</td>\n",
       "      <td>1.736502</td>\n",
       "      <td>0</td>\n",
       "    </tr>\n",
       "    <tr>\n",
       "      <th>3</th>\n",
       "      <td>0</td>\n",
       "      <td>1</td>\n",
       "      <td>1</td>\n",
       "      <td>1</td>\n",
       "      <td>1</td>\n",
       "      <td>12</td>\n",
       "      <td>1</td>\n",
       "      <td>33</td>\n",
       "      <td>62.669863</td>\n",
       "      <td>12.0</td>\n",
       "      <td>2</td>\n",
       "      <td>3.205633</td>\n",
       "      <td>3.357215</td>\n",
       "      <td>0</td>\n",
       "    </tr>\n",
       "    <tr>\n",
       "      <th>4</th>\n",
       "      <td>1</td>\n",
       "      <td>1</td>\n",
       "      <td>1</td>\n",
       "      <td>1</td>\n",
       "      <td>1</td>\n",
       "      <td>1</td>\n",
       "      <td>0</td>\n",
       "      <td>26</td>\n",
       "      <td>198.362265</td>\n",
       "      <td>1.0</td>\n",
       "      <td>3</td>\n",
       "      <td>1.113884</td>\n",
       "      <td>1.120078</td>\n",
       "      <td>0</td>\n",
       "    </tr>\n",
       "  </tbody>\n",
       "</table>\n",
       "</div>"
      ],
      "text/plain": [
       "   gender  Near_Location  Partner  Promo_friends  Phone  Contract_period  \\\n",
       "0       1              1        1              1      0                6   \n",
       "1       0              1        0              0      1               12   \n",
       "2       0              1        1              0      1                1   \n",
       "3       0              1        1              1      1               12   \n",
       "4       1              1        1              1      1                1   \n",
       "\n",
       "   Group_visits  Age  Avg_additional_charges_total  Month_to_end_contract  \\\n",
       "0             1   29                     14.227470                    5.0   \n",
       "1             1   31                    113.202938                   12.0   \n",
       "2             0   28                    129.448479                    1.0   \n",
       "3             1   33                     62.669863                   12.0   \n",
       "4             0   26                    198.362265                    1.0   \n",
       "\n",
       "   Lifetime  Avg_class_frequency_total  Avg_class_frequency_current_month  \\\n",
       "0         3                   0.020398                           0.000000   \n",
       "1         7                   1.922936                           1.910244   \n",
       "2         2                   1.859098                           1.736502   \n",
       "3         2                   3.205633                           3.357215   \n",
       "4         3                   1.113884                           1.120078   \n",
       "\n",
       "   Churn  \n",
       "0      0  \n",
       "1      0  \n",
       "2      0  \n",
       "3      0  \n",
       "4      0  "
      ]
     },
     "execution_count": 2,
     "metadata": {},
     "output_type": "execute_result"
    }
   ],
   "source": [
    "# чтение файла\n",
    "gym_churn = pd.read_csv('/datasets/gym_churn.csv')\n",
    "gym_churn.head()"
   ]
  },
  {
   "cell_type": "code",
   "execution_count": 3,
   "metadata": {},
   "outputs": [
    {
     "name": "stdout",
     "output_type": "stream",
     "text": [
      "<class 'pandas.core.frame.DataFrame'>\n",
      "RangeIndex: 4000 entries, 0 to 3999\n",
      "Data columns (total 14 columns):\n",
      " #   Column                             Non-Null Count  Dtype  \n",
      "---  ------                             --------------  -----  \n",
      " 0   gender                             4000 non-null   int64  \n",
      " 1   near_location                      4000 non-null   int64  \n",
      " 2   partner                            4000 non-null   int64  \n",
      " 3   promo_friends                      4000 non-null   int64  \n",
      " 4   phone                              4000 non-null   int64  \n",
      " 5   contract_period                    4000 non-null   int64  \n",
      " 6   group_visits                       4000 non-null   int64  \n",
      " 7   age                                4000 non-null   int64  \n",
      " 8   avg_additional_charges_total       4000 non-null   float64\n",
      " 9   month_to_end_contract              4000 non-null   float64\n",
      " 10  lifetime                           4000 non-null   int64  \n",
      " 11  avg_class_frequency_total          4000 non-null   float64\n",
      " 12  avg_class_frequency_current_month  4000 non-null   float64\n",
      " 13  churn                              4000 non-null   int64  \n",
      "dtypes: float64(4), int64(10)\n",
      "memory usage: 437.6 KB\n"
     ]
    },
    {
     "data": {
      "text/plain": [
       "0"
      ]
     },
     "execution_count": 3,
     "metadata": {},
     "output_type": "execute_result"
    }
   ],
   "source": [
    "# приведение название колонок к нижнему ругистру\n",
    "gym_churn.columns = gym_churn.columns.str.lower()\n",
    "\n",
    "# изучение общих сведений о данных\n",
    "gym_churn.info()\n",
    "\n",
    "# проверка на наличие явных (полных) дубликатов\n",
    "gym_churn.duplicated().sum()"
   ]
  },
  {
   "cell_type": "markdown",
   "metadata": {},
   "source": [
    "Файл прочитался корректно.\n",
    "\n",
    "Представленные на анализ данные содержат 12 признаков и информацию об оттоке в текущем месяце. Всего 4000 наблюдения. Пропущенные значения, явные (полные) дубликаты - отсутвуют. Данные представлены дикретными и непрерывными величинами.\n",
    "\n",
    "**Описание данных:**\n",
    "\n",
    "Данные клиента за предыдущий до проверки факта оттока месяц:\n",
    "\n",
    "- gender — пол;\n",
    "- near_location — проживание или работа в районе, где находится фитнес-центр;\n",
    "- partner — сотрудник компании-партнёра клуба (сотрудничество с компаниями, чьи сотрудники могут получать скидки на абонемент — в таком случае фитнес-центр хранит информацию о работодателе клиента);\n",
    "- promo_friends — факт первоначальной записи в рамках акции «приведи друга» (использовал промо-код от знакомого при оплате первого абонемента);\n",
    "- phone — наличие контактного телефона;\n",
    "- age — возраст;\n",
    "- lifetime — время с момента первого обращения в фитнес-центр (в месяцах).\n",
    "\n",
    "Информация на основе журнала посещений, покупок и информация о текущем статусе абонемента клиента:\n",
    "\n",
    "- contract_period — длительность текущего действующего абонемента (месяц, 6 месяцев, год);\n",
    "- month_to_end_contract — срок до окончания текущего действующего абонемента (в месяцах);\n",
    "- group_visits — факт посещения групповых занятий;\n",
    "- avg_class_frequency_total — средняя частота посещений в неделю за все время с начала действия абонемента;\n",
    "- avg_class_frequency_current_month — средняя частота посещений в неделю за предыдущий месяц;\n",
    "- avg_additional_charges_total — суммарная выручка от других услуг фитнес-центра: кафе, спорттовары, косметический и массажный салон.\n",
    "- churn — факт оттока в текущем месяце."
   ]
  },
  {
   "cell_type": "markdown",
   "metadata": {},
   "source": [
    "##  Исследовательский анализ данных (EDA)"
   ]
  },
  {
   "cell_type": "code",
   "execution_count": 4,
   "metadata": {},
   "outputs": [
    {
     "data": {
      "text/html": [
       "<div>\n",
       "<style scoped>\n",
       "    .dataframe tbody tr th:only-of-type {\n",
       "        vertical-align: middle;\n",
       "    }\n",
       "\n",
       "    .dataframe tbody tr th {\n",
       "        vertical-align: top;\n",
       "    }\n",
       "\n",
       "    .dataframe thead th {\n",
       "        text-align: right;\n",
       "    }\n",
       "</style>\n",
       "<table border=\"1\" class=\"dataframe\">\n",
       "  <thead>\n",
       "    <tr style=\"text-align: right;\">\n",
       "      <th></th>\n",
       "      <th>count</th>\n",
       "      <th>mean</th>\n",
       "      <th>std</th>\n",
       "      <th>min</th>\n",
       "      <th>25%</th>\n",
       "      <th>50%</th>\n",
       "      <th>75%</th>\n",
       "      <th>max</th>\n",
       "    </tr>\n",
       "  </thead>\n",
       "  <tbody>\n",
       "    <tr>\n",
       "      <th>gender</th>\n",
       "      <td>4000.0</td>\n",
       "      <td>0.510250</td>\n",
       "      <td>0.499957</td>\n",
       "      <td>0.000000</td>\n",
       "      <td>0.000000</td>\n",
       "      <td>1.000000</td>\n",
       "      <td>1.000000</td>\n",
       "      <td>1.000000</td>\n",
       "    </tr>\n",
       "    <tr>\n",
       "      <th>near_location</th>\n",
       "      <td>4000.0</td>\n",
       "      <td>0.845250</td>\n",
       "      <td>0.361711</td>\n",
       "      <td>0.000000</td>\n",
       "      <td>1.000000</td>\n",
       "      <td>1.000000</td>\n",
       "      <td>1.000000</td>\n",
       "      <td>1.000000</td>\n",
       "    </tr>\n",
       "    <tr>\n",
       "      <th>partner</th>\n",
       "      <td>4000.0</td>\n",
       "      <td>0.486750</td>\n",
       "      <td>0.499887</td>\n",
       "      <td>0.000000</td>\n",
       "      <td>0.000000</td>\n",
       "      <td>0.000000</td>\n",
       "      <td>1.000000</td>\n",
       "      <td>1.000000</td>\n",
       "    </tr>\n",
       "    <tr>\n",
       "      <th>promo_friends</th>\n",
       "      <td>4000.0</td>\n",
       "      <td>0.308500</td>\n",
       "      <td>0.461932</td>\n",
       "      <td>0.000000</td>\n",
       "      <td>0.000000</td>\n",
       "      <td>0.000000</td>\n",
       "      <td>1.000000</td>\n",
       "      <td>1.000000</td>\n",
       "    </tr>\n",
       "    <tr>\n",
       "      <th>phone</th>\n",
       "      <td>4000.0</td>\n",
       "      <td>0.903500</td>\n",
       "      <td>0.295313</td>\n",
       "      <td>0.000000</td>\n",
       "      <td>1.000000</td>\n",
       "      <td>1.000000</td>\n",
       "      <td>1.000000</td>\n",
       "      <td>1.000000</td>\n",
       "    </tr>\n",
       "    <tr>\n",
       "      <th>contract_period</th>\n",
       "      <td>4000.0</td>\n",
       "      <td>4.681250</td>\n",
       "      <td>4.549706</td>\n",
       "      <td>1.000000</td>\n",
       "      <td>1.000000</td>\n",
       "      <td>1.000000</td>\n",
       "      <td>6.000000</td>\n",
       "      <td>12.000000</td>\n",
       "    </tr>\n",
       "    <tr>\n",
       "      <th>group_visits</th>\n",
       "      <td>4000.0</td>\n",
       "      <td>0.412250</td>\n",
       "      <td>0.492301</td>\n",
       "      <td>0.000000</td>\n",
       "      <td>0.000000</td>\n",
       "      <td>0.000000</td>\n",
       "      <td>1.000000</td>\n",
       "      <td>1.000000</td>\n",
       "    </tr>\n",
       "    <tr>\n",
       "      <th>age</th>\n",
       "      <td>4000.0</td>\n",
       "      <td>29.184250</td>\n",
       "      <td>3.258367</td>\n",
       "      <td>18.000000</td>\n",
       "      <td>27.000000</td>\n",
       "      <td>29.000000</td>\n",
       "      <td>31.000000</td>\n",
       "      <td>41.000000</td>\n",
       "    </tr>\n",
       "    <tr>\n",
       "      <th>avg_additional_charges_total</th>\n",
       "      <td>4000.0</td>\n",
       "      <td>146.943728</td>\n",
       "      <td>96.355602</td>\n",
       "      <td>0.148205</td>\n",
       "      <td>68.868830</td>\n",
       "      <td>136.220159</td>\n",
       "      <td>210.949625</td>\n",
       "      <td>552.590740</td>\n",
       "    </tr>\n",
       "    <tr>\n",
       "      <th>month_to_end_contract</th>\n",
       "      <td>4000.0</td>\n",
       "      <td>4.322750</td>\n",
       "      <td>4.191297</td>\n",
       "      <td>1.000000</td>\n",
       "      <td>1.000000</td>\n",
       "      <td>1.000000</td>\n",
       "      <td>6.000000</td>\n",
       "      <td>12.000000</td>\n",
       "    </tr>\n",
       "    <tr>\n",
       "      <th>lifetime</th>\n",
       "      <td>4000.0</td>\n",
       "      <td>3.724750</td>\n",
       "      <td>3.749267</td>\n",
       "      <td>0.000000</td>\n",
       "      <td>1.000000</td>\n",
       "      <td>3.000000</td>\n",
       "      <td>5.000000</td>\n",
       "      <td>31.000000</td>\n",
       "    </tr>\n",
       "    <tr>\n",
       "      <th>avg_class_frequency_total</th>\n",
       "      <td>4000.0</td>\n",
       "      <td>1.879020</td>\n",
       "      <td>0.972245</td>\n",
       "      <td>0.000000</td>\n",
       "      <td>1.180875</td>\n",
       "      <td>1.832768</td>\n",
       "      <td>2.536078</td>\n",
       "      <td>6.023668</td>\n",
       "    </tr>\n",
       "    <tr>\n",
       "      <th>avg_class_frequency_current_month</th>\n",
       "      <td>4000.0</td>\n",
       "      <td>1.767052</td>\n",
       "      <td>1.052906</td>\n",
       "      <td>0.000000</td>\n",
       "      <td>0.963003</td>\n",
       "      <td>1.719574</td>\n",
       "      <td>2.510336</td>\n",
       "      <td>6.146783</td>\n",
       "    </tr>\n",
       "    <tr>\n",
       "      <th>churn</th>\n",
       "      <td>4000.0</td>\n",
       "      <td>0.265250</td>\n",
       "      <td>0.441521</td>\n",
       "      <td>0.000000</td>\n",
       "      <td>0.000000</td>\n",
       "      <td>0.000000</td>\n",
       "      <td>1.000000</td>\n",
       "      <td>1.000000</td>\n",
       "    </tr>\n",
       "  </tbody>\n",
       "</table>\n",
       "</div>"
      ],
      "text/plain": [
       "                                    count        mean        std        min  \\\n",
       "gender                             4000.0    0.510250   0.499957   0.000000   \n",
       "near_location                      4000.0    0.845250   0.361711   0.000000   \n",
       "partner                            4000.0    0.486750   0.499887   0.000000   \n",
       "promo_friends                      4000.0    0.308500   0.461932   0.000000   \n",
       "phone                              4000.0    0.903500   0.295313   0.000000   \n",
       "contract_period                    4000.0    4.681250   4.549706   1.000000   \n",
       "group_visits                       4000.0    0.412250   0.492301   0.000000   \n",
       "age                                4000.0   29.184250   3.258367  18.000000   \n",
       "avg_additional_charges_total       4000.0  146.943728  96.355602   0.148205   \n",
       "month_to_end_contract              4000.0    4.322750   4.191297   1.000000   \n",
       "lifetime                           4000.0    3.724750   3.749267   0.000000   \n",
       "avg_class_frequency_total          4000.0    1.879020   0.972245   0.000000   \n",
       "avg_class_frequency_current_month  4000.0    1.767052   1.052906   0.000000   \n",
       "churn                              4000.0    0.265250   0.441521   0.000000   \n",
       "\n",
       "                                         25%         50%         75%  \\\n",
       "gender                              0.000000    1.000000    1.000000   \n",
       "near_location                       1.000000    1.000000    1.000000   \n",
       "partner                             0.000000    0.000000    1.000000   \n",
       "promo_friends                       0.000000    0.000000    1.000000   \n",
       "phone                               1.000000    1.000000    1.000000   \n",
       "contract_period                     1.000000    1.000000    6.000000   \n",
       "group_visits                        0.000000    0.000000    1.000000   \n",
       "age                                27.000000   29.000000   31.000000   \n",
       "avg_additional_charges_total       68.868830  136.220159  210.949625   \n",
       "month_to_end_contract               1.000000    1.000000    6.000000   \n",
       "lifetime                            1.000000    3.000000    5.000000   \n",
       "avg_class_frequency_total           1.180875    1.832768    2.536078   \n",
       "avg_class_frequency_current_month   0.963003    1.719574    2.510336   \n",
       "churn                               0.000000    0.000000    1.000000   \n",
       "\n",
       "                                          max  \n",
       "gender                               1.000000  \n",
       "near_location                        1.000000  \n",
       "partner                              1.000000  \n",
       "promo_friends                        1.000000  \n",
       "phone                                1.000000  \n",
       "contract_period                     12.000000  \n",
       "group_visits                         1.000000  \n",
       "age                                 41.000000  \n",
       "avg_additional_charges_total       552.590740  \n",
       "month_to_end_contract               12.000000  \n",
       "lifetime                            31.000000  \n",
       "avg_class_frequency_total            6.023668  \n",
       "avg_class_frequency_current_month    6.146783  \n",
       "churn                                1.000000  "
      ]
     },
     "execution_count": 4,
     "metadata": {},
     "output_type": "execute_result"
    }
   ],
   "source": [
    "# статистики признаков и целевой переменной\n",
    "gym_churn.describe().T"
   ]
  },
  {
   "cell_type": "markdown",
   "metadata": {},
   "source": [
    "Итак, 4000 наблюдения по 12 признакам и целевой переменной пропусков не имеют.\n",
    "\n",
    "Признаки пола, близости к фитнес-центру, парнерскому статусу, наличия контакта клиента, посещения гупповых тренировок и отток клиента представлены бинарно.\n",
    "\n",
    "Соответственно, если медиана указнных призанков находиться в единице, то половина клиентов фитнес-центра имеют либо мужской пол (для признака гендерной принадлежности), либо статус \"Да\" для прочих указанных признаков.\n",
    "\n",
    "Значение среднего свидетельсвует о смещении (скосе) признака вправо или влево относительно значения 0,5. Так, среднее значение гендера равно 0,51 - большиство клиентов мужского пола, 0,84 для призанака о близкой к фитнес-центру локации свидетельствует о таковой для большинства клиентов. Далее. 48% процентов клиентов работат в партнерских компаниях, 31% приняли участие в промо-акции, подавляющее большинство (90%) поделилось контрактной информацией, 41% клиентов посещают груповые тренировки. И, отток на текущей месяц по имеющимся анлюдениям составляет 26% - четвертть пользоватлей покину сервис. Таким образом, целевая переменная распределена диспропорционально.\n",
    "\n",
    "Стандратное отклонение при бинарном распределении имеет противополжное от среднего значение.\n",
    "\n",
    "Сведения о длительности абонемента, возрасте, прочих расходов, срока до окончания абонемента, лайфтамы, средние частоты посещения зала в неделю клиента представлены дискретными и непрерывными значениями. Рассмотрим статистики признаков, совместно с визуализацией распределениий."
   ]
  },
  {
   "cell_type": "code",
   "execution_count": 5,
   "metadata": {},
   "outputs": [
    {
     "data": {
      "image/png": "[encoded data removed]",
      "text/plain": [
       "<Figure size 1080x576 with 2 Axes>"
      ]
     },
     "metadata": {
      "needs_background": "light"
     },
     "output_type": "display_data"
    }
   ],
   "source": [
    "# функция для построения графика распределения признака\n",
    "# принмает в качестве агрумента признак, название признака, единицу измерения признака\n",
    "# возвращает гистограмму частот и диаграмму размаха\n",
    "def get_distribution_plot(feature, title, label):\n",
    "    plt.figure(figsize=(15, 8))\n",
    "    plt.subplot(2, 1, 1)\n",
    "    plt.title(title)\n",
    "    sns.distplot(feature, kde=False)\n",
    "    plt.xlabel('')\n",
    "    plt.subplot(2, 1, 2)\n",
    "    sns.boxplot(feature)\n",
    "    plt.xlabel(label)\n",
    "    plt.show()\n",
    "    \n",
    "\n",
    "# визуализация распределения срока действия абонемента\n",
    "get_distribution_plot(gym_churn['contract_period'], \n",
    "                      title='Распределение срок действия абонемента', \n",
    "                      label='Срок абонемента')"
   ]
  },
  {
   "cell_type": "markdown",
   "metadata": {},
   "source": [
    "Распределение длительности дейтсивя абонемента имеет три моды. Большинство пользователей приобретают абонемент на срок до двух месяцев. Однако, среднее значение в пять месяцев и стандартное отклонении в в 4,54 месяца свидетельствует о достаточно широком распределении признака. Медиана признака равна единице - половина пользоватлей покупает абонемент на месяц, при этом 75% пользоватлей приобретают абонемент на полгода. Такое смещение длительности контракта объясняется наличием клиентов с годовым абонементом, превышающем число клиентов с пологодовым абонементом. Пользователей с абонементом превышащей годовой горизонт - нет, очевидно такое предложение на рынке отсутсвует."
   ]
  },
  {
   "cell_type": "code",
   "execution_count": 6,
   "metadata": {},
   "outputs": [
    {
     "data": {
      "image/png": "[encoded data removed]",
      "text/plain": [
       "<Figure size 1080x576 with 2 Axes>"
      ]
     },
     "metadata": {
      "needs_background": "light"
     },
     "output_type": "display_data"
    }
   ],
   "source": [
    "# визуализация распределения возраста клиентов\n",
    "get_distribution_plot(gym_churn['age'],\n",
    "                     title='Распределение возраста клиентов',\n",
    "                     label='Возраст')"
   ]
  },
  {
   "cell_type": "markdown",
   "metadata": {},
   "source": [
    "Распределение возраста клиентов фитнес-центра имеет классический нормальный характер со среднем значением в 29 лет равным медиане. Стандартное отклонение 3,25 лет. Аномальными представлется возможным признать возраст клиентов страше 36 лет и моложе 21 года - таких клиентов шесть."
   ]
  },
  {
   "cell_type": "code",
   "execution_count": 7,
   "metadata": {},
   "outputs": [
    {
     "data": {
      "image/png": "[encoded data removed]",
      "text/plain": [
       "<Figure size 1080x576 with 2 Axes>"
      ]
     },
     "metadata": {
      "needs_background": "light"
     },
     "output_type": "display_data"
    }
   ],
   "source": [
    "# визуализация распределения суммарной выручки от других услуг финтнес центра\n",
    "get_distribution_plot(gym_churn['avg_additional_charges_total'],\n",
    "                     title='Распределение суммарной выручки от других услуг финтнес центра',\n",
    "                     label='Выручка')"
   ]
  },
  {
   "cell_type": "markdown",
   "metadata": {},
   "source": [
    "Выручка, как и любой прочий результат деятельности целовека, всего имеет скошенное вправо распределение: большинство пользоватлей несут расходы близкие к нулю, а редкие аномалии тратят значительные средства.\n",
    "\n",
    "Так, среднее значение выручки в 146, при медиане в 136 говорит о наличии \"жирного\" хвоста, который \"перетягиевает\" на себя статистику - среднее значение. 25% клиентов тратят на прочие услуги 68, 75% - 210. Максимльное значение выручки от прочих услуг фитнес-центра равно 552. Анамально высокими значениями выручки представлется возмодным признать значения больше 318. Стандатное отклонение в 96 - свидетельствет о достаточно широком распределении признака."
   ]
  },
  {
   "cell_type": "code",
   "execution_count": 8,
   "metadata": {},
   "outputs": [
    {
     "data": {
      "image/png": "[encoded data removed]",
      "text/plain": [
       "<Figure size 1080x576 with 2 Axes>"
      ]
     },
     "metadata": {
      "needs_background": "light"
     },
     "output_type": "display_data"
    }
   ],
   "source": [
    "# визуализация распределения срока окончания абонемента\n",
    "get_distribution_plot(gym_churn['month_to_end_contract'],\n",
    "                     title='Распределение срока окончания абонемента',\n",
    "                     label='Месяцы')"
   ]
  },
  {
   "cell_type": "markdown",
   "metadata": {},
   "source": [
    "Итак, в виду наличия трех мод у распредления длительности абонемента, распределение срока окончания абонемента также имеет три ярко выраженные группы: месяц до окончания абонемента - это те пользоватлеи, которые приобретают контракт ежемесячно; полгода и год - соответсвенно пользователи с пологодовыми и годовыми абонементами.\n",
    "\n",
    "По этой же причины статистики распределения количества месяцов до кончания абонемента схожи со статистиками длительности абонемента: медиана в единце, среднее значение 4 месяца при стандартном отклонении в 4 месяца.\n",
    "\n",
    "У ряда пользователей срок окончания абонемента истекает соответсвенно через 4 и 5 месяцев - это могут быть пользоватлеи, как с годовыми, так и с пологодовыми картами, у некоторых срок дествия истекает через 8-10 месяцев - это клиенты с годовой картой.\n",
    "\n",
    "Таким образом, на стадии исследовательского анализа, можно сделать вывод, что предсказывать отток клиентов модель будет у 50% пользователей с сроком дейтсвия карты до месяца. При этом, из предоставленных данных, достоверно известно, что 26% пользоватлей не продлят абонемент. Таким образом, маркетиноговые усилия стоит сосредоточить на порядка 15% отказников.  "
   ]
  },
  {
   "cell_type": "code",
   "execution_count": 9,
   "metadata": {},
   "outputs": [
    {
     "data": {
      "image/png": "[encoded data removed]",
      "text/plain": [
       "<Figure size 1080x576 with 2 Axes>"
      ]
     },
     "metadata": {
      "needs_background": "light"
     },
     "output_type": "display_data"
    }
   ],
   "source": [
    "# визуализация распределения лайфтайма\n",
    "get_distribution_plot(gym_churn['lifetime'],\n",
    "                     title='Распределение лайфтайма',\n",
    "                     label='Месяцы')"
   ]
  },
  {
   "cell_type": "markdown",
   "metadata": {},
   "source": [
    "Итак, в среднем клиенты посещают зал на протяжении четырех месяцев, при этом половина клиентов пользуется центром три месяца. Шикорое распределение лайфтайма со стандартными отклонением в 4 месяца говорит, как о наличии целевой аудитории у зала, так и о наличии у зала \"подснежников\" - сезоных посетителей тренировок.\n",
    "\n",
    "Аномально длительным лайфтайм представляется воможным признать значения превышающие 11 месяцев, то такие уникумов в представленной выборке из 4000 наблюдений всего 17."
   ]
  },
  {
   "cell_type": "code",
   "execution_count": 10,
   "metadata": {},
   "outputs": [
    {
     "data": {
      "image/png": "[encoded data removed]",
      "text/plain": [
       "<Figure size 1080x576 with 2 Axes>"
      ]
     },
     "metadata": {
      "needs_background": "light"
     },
     "output_type": "display_data"
    }
   ],
   "source": [
    "# визуализация распределения частоты посещения зала за все время наблюдения\n",
    "get_distribution_plot(gym_churn['avg_class_frequency_total'],\n",
    "                     title='Распределение частоты посещения зала за все время наблюдения',\n",
    "                     label='Количество раз в неделю')"
   ]
  },
  {
   "cell_type": "markdown",
   "metadata": {},
   "source": [
    "Итак, типичный клиент фитнес-центра посещает зал в среднем два раза при медиане также в два посещения и стандартном отклоение в одно посещение в неделю.\n",
    "\n",
    "При этом порядка 150 пользователей так ни разу и не посетили зал, не смотря на наличие абонемента, а также в представленной выборке имеються настоящие атлеты посещащие зал более 4,75 раз в неделю в среднем. Их 13."
   ]
  },
  {
   "cell_type": "code",
   "execution_count": 11,
   "metadata": {},
   "outputs": [
    {
     "data": {
      "image/png": "[encoded data removed]",
      "text/plain": [
       "<Figure size 1080x576 with 2 Axes>"
      ]
     },
     "metadata": {
      "needs_background": "light"
     },
     "output_type": "display_data"
    }
   ],
   "source": [
    "# визуализация распределения частоты посещения зала за предыдущий месяц\n",
    "get_distribution_plot(gym_churn['avg_class_frequency_current_month'],\n",
    "                     title='Распределение частоты посещения зала за предыдущий месяц',\n",
    "                     label='Количество раз в неделю')"
   ]
  },
  {
   "cell_type": "markdown",
   "metadata": {},
   "source": [
    "Распределение частоты посещения зала за прошлый месяц схоже с распределением частоты посещения зала за все время наблюдения. Так среднее чуть меньше 1,7 против 1,8 за все время, медиана 1,7 ппротив 1,8 за все время, и незначитльный рост в 1 посещение против 0,9 за все время. Таким образом, распределение смещается к нулю и становиться шире.\n",
    "\n",
    "Кроме того, количество пользоватлей прекращающих посещать зал приближается в 300 против 150 за все время, а чило атлетов сократилось до 7. Очевидно, в представленной выборке, наблюдается замедление интенсивности пользованием сервиса за последний месяц. Видимо, такое смещение к нулю распределения обуславливает поведение тех 26% пользоватлей покинувших фитнес-центр.\n",
    "\n",
    "Рассмотрим, как признаки взаимодействует между собой и целевой переменной."
   ]
  },
  {
   "cell_type": "code",
   "execution_count": 12,
   "metadata": {},
   "outputs": [
    {
     "data": {
      "image/png": "[encoded data removed]",
      "text/plain": [
       "<Figure size 1080x1080 with 2 Axes>"
      ]
     },
     "metadata": {
      "needs_background": "light"
     },
     "output_type": "display_data"
    }
   ],
   "source": [
    "# корреляционная ранговая матрица\n",
    "plt.figure(figsize=(15, 15))\n",
    "sns.heatmap(gym_churn.corr(method='spearman'), annot=True, square=True, linewidths=.5, cmap='Blues')\n",
    "plt.title('Корреляционная матрица Спирмена')\n",
    "plt.show()"
   ]
  },
  {
   "cell_type": "markdown",
   "metadata": {},
   "source": [
    "В ходе изучения распределения признаком целевой переменной отмечено наличие выбросов - явно выбивающихся значений из выборки, в связи с чем применем ранговую модель корреляции для оценки наличия возможной линейной взаимосвязи между данными.\n",
    "\n",
    "Так, очевидно, между собой сильно коррелируют признаки срока действия абонемента и количество месяцев до окончания абонемента, а также среднее количество посещений в неделю за весь период наблюдений и за последний месяц. Прочих сильных связей не выявлено. \n",
    "\n",
    "При этом ожидаемая связь между расходами клиента на прочие услуги фитнес центра и срок абонемента, лайфтаймом и частотой посещений в неделю не выявлено, что странно: клиенты, которые живут в сервисе долго и часто посещают зал, обычно приносят больше дополнительной выручки.\n",
    "\n",
    "Дополнительно отменим, что целевая переменная больше всего отрицательно коррелирует с частотой посещения зала в неделю в последнем месяца и лайфтаймом. Логично. Чем дольше клиент у нас в сервисе и чем комфортнее ему у нас пребывать, тем меньше шансов, что он уйдет. Однако, возможны варианты, что клиент решил покунуить зал и интенсивно \"дохаживает\" действующий абонемент.\n",
    "\n",
    "Возраст и срок абонемента также явлются решающими факторами: чем моложе пользователь, тем больше вероятность, что он останется с нами и чем короче период контракта клиента, тем вероятнее всего он покинет зал. Что вполне логично, возможно, зал не возращает деньги при разрыве договора или возможно система взаимодействия с пользователями считает пользователя \"живым\", пока у него активный контракт. \n",
    "\n",
    "Половая принадлженость и факт оставления контакта клиента не влияют на отток.\n",
    "\n",
    "Рассмотрим средние значения признаков клиентов отдельно по группам: те, кто остался и те, кто покунул зал."
   ]
  },
  {
   "cell_type": "code",
   "execution_count": 13,
   "metadata": {
    "scrolled": false
   },
   "outputs": [
    {
     "data": {
      "text/html": [
       "<div>\n",
       "<style scoped>\n",
       "    .dataframe tbody tr th:only-of-type {\n",
       "        vertical-align: middle;\n",
       "    }\n",
       "\n",
       "    .dataframe tbody tr th {\n",
       "        vertical-align: top;\n",
       "    }\n",
       "\n",
       "    .dataframe thead th {\n",
       "        text-align: right;\n",
       "    }\n",
       "</style>\n",
       "<table border=\"1\" class=\"dataframe\">\n",
       "  <thead>\n",
       "    <tr style=\"text-align: right;\">\n",
       "      <th></th>\n",
       "      <th>gender</th>\n",
       "      <th>near_location</th>\n",
       "      <th>partner</th>\n",
       "      <th>promo_friends</th>\n",
       "      <th>phone</th>\n",
       "      <th>contract_period</th>\n",
       "      <th>group_visits</th>\n",
       "      <th>age</th>\n",
       "      <th>avg_additional_charges_total</th>\n",
       "      <th>month_to_end_contract</th>\n",
       "      <th>lifetime</th>\n",
       "      <th>avg_class_frequency_total</th>\n",
       "      <th>avg_class_frequency_current_month</th>\n",
       "    </tr>\n",
       "    <tr>\n",
       "      <th>churn</th>\n",
       "      <th></th>\n",
       "      <th></th>\n",
       "      <th></th>\n",
       "      <th></th>\n",
       "      <th></th>\n",
       "      <th></th>\n",
       "      <th></th>\n",
       "      <th></th>\n",
       "      <th></th>\n",
       "      <th></th>\n",
       "      <th></th>\n",
       "      <th></th>\n",
       "      <th></th>\n",
       "    </tr>\n",
       "  </thead>\n",
       "  <tbody>\n",
       "    <tr>\n",
       "      <th>0</th>\n",
       "      <td>0.510037</td>\n",
       "      <td>0.873086</td>\n",
       "      <td>0.534195</td>\n",
       "      <td>0.353522</td>\n",
       "      <td>0.903709</td>\n",
       "      <td>5.747193</td>\n",
       "      <td>0.464103</td>\n",
       "      <td>29.976523</td>\n",
       "      <td>158.445715</td>\n",
       "      <td>5.283089</td>\n",
       "      <td>4.711807</td>\n",
       "      <td>2.024876</td>\n",
       "      <td>2.027882</td>\n",
       "    </tr>\n",
       "    <tr>\n",
       "      <th>1</th>\n",
       "      <td>0.510839</td>\n",
       "      <td>0.768143</td>\n",
       "      <td>0.355325</td>\n",
       "      <td>0.183789</td>\n",
       "      <td>0.902922</td>\n",
       "      <td>1.728558</td>\n",
       "      <td>0.268615</td>\n",
       "      <td>26.989632</td>\n",
       "      <td>115.082899</td>\n",
       "      <td>1.662582</td>\n",
       "      <td>0.990575</td>\n",
       "      <td>1.474995</td>\n",
       "      <td>1.044546</td>\n",
       "    </tr>\n",
       "  </tbody>\n",
       "</table>\n",
       "</div>"
      ],
      "text/plain": [
       "         gender  near_location   partner  promo_friends     phone  \\\n",
       "churn                                                               \n",
       "0      0.510037       0.873086  0.534195       0.353522  0.903709   \n",
       "1      0.510839       0.768143  0.355325       0.183789  0.902922   \n",
       "\n",
       "       contract_period  group_visits        age  avg_additional_charges_total  \\\n",
       "churn                                                                           \n",
       "0             5.747193      0.464103  29.976523                    158.445715   \n",
       "1             1.728558      0.268615  26.989632                    115.082899   \n",
       "\n",
       "       month_to_end_contract  lifetime  avg_class_frequency_total  \\\n",
       "churn                                                               \n",
       "0                   5.283089  4.711807                   2.024876   \n",
       "1                   1.662582  0.990575                   1.474995   \n",
       "\n",
       "       avg_class_frequency_current_month  \n",
       "churn                                     \n",
       "0                               2.027882  \n",
       "1                               1.044546  "
      ]
     },
     "execution_count": 13,
     "metadata": {},
     "output_type": "execute_result"
    }
   ],
   "source": [
    "# рассчет средних значений признака по группам\n",
    "gym_churn.groupby('churn').agg('mean')"
   ]
  },
  {
   "cell_type": "markdown",
   "metadata": {},
   "source": [
    "Таким образом, как было отмечено ранее, пол и оставление контактов не влияет на отток: по 51% мужчин в обоих группах и по 90% оставивших контакт в обоих группах, а проживание и работа вблизи зала, а также парнерский характер взаимотноений, наличии промо влияют и посещение групповых занятий влияют: так 87% против 77% остались в сервисе, если работают или живут рядом с залом; 53% против 35% остались, если работодатель парнер фитнес-центра, 35% против 18% не оттекли, если воспользовались промо-акцией, 46% против 27% процентов остались в зале, если посещают групповые занятия.\n",
    "\n",
    "Средняя длительность абонемента у оставшихся в сервисе полгода против 1,7 месяца у группа оттока, средний возраст у оставшихся клиентов 30 лет, у покинувших 27 лет. Ушедшие польователи тратят в среднем 115 против 158 у сохранивших абонемент; пять месяцев против одного лайфтайм оставшихся пользоватлей и средняя частота посещения два раза в неделю против 1,5 и одного соответсвенно у оттока."
   ]
  },
  {
   "cell_type": "markdown",
   "metadata": {},
   "source": [
    "## Модель прогнозирования оттока клиентов"
   ]
  },
  {
   "cell_type": "code",
   "execution_count": 14,
   "metadata": {},
   "outputs": [
    {
     "name": "stdout",
     "output_type": "stream",
     "text": [
      "LogisticRegression(C=0.5, solver='liblinear')\n",
      "\n",
      "    accuracy_score: 0.93,\n",
      "    precision_score:0.89,\n",
      "    recall_score: 0.839622641509434,\n",
      "    f1_score: 0.8640776699029127,\n",
      "    roc_auc_score: 0.9777628032345013\n",
      "              \n"
     ]
    },
    {
     "data": {
      "image/png": "[encoded data removed]",
      "text/plain": [
       "<Figure size 360x288 with 1 Axes>"
      ]
     },
     "metadata": {
      "needs_background": "light"
     },
     "output_type": "display_data"
    },
    {
     "name": "stdout",
     "output_type": "stream",
     "text": [
      "RandomForestClassifier(max_depth=10, n_estimators=50)\n",
      "\n",
      "    accuracy_score: 0.9225,\n",
      "    precision_score:0.8712871287128713,\n",
      "    recall_score: 0.8301886792452831,\n",
      "    f1_score: 0.8502415458937197,\n",
      "    roc_auc_score: 0.9712167886022334\n",
      "              \n"
     ]
    },
    {
     "data": {
      "image/png": "[encoded data removed]",
      "text/plain": [
       "<Figure size 360x288 with 1 Axes>"
      ]
     },
     "metadata": {
      "needs_background": "light"
     },
     "output_type": "display_data"
    }
   ],
   "source": [
    "# разделение данных на матрицу признаков и целевую переменную\n",
    "X = gym_churn.drop(['churn'], axis=1)\n",
    "y = gym_churn['churn']\n",
    "\n",
    "# создание объекта класса scaler\n",
    "# обучение и стандартизатора и преобразование данных\n",
    "scaler = StandardScaler() \n",
    "X = scaler.fit_transform(X)\n",
    "\n",
    "# разделение данных на обучающую и валидационную выборки\n",
    "X_train, X_test, y_train, y_test = train_test_split(X, y, test_size=.2, random_state=0, stratify=y)\n",
    "\n",
    "# формирование списка используемых алгорином обучения\n",
    "models = [LogisticRegression(solver='liblinear',\n",
    "                            C=.5),\n",
    "         RandomForestClassifier(n_estimators=50,\n",
    "                               max_depth=10)]\n",
    "\n",
    "# создаем функцию для обучения, прогноза и получения метрик моделей\n",
    "# функция принмает на вход модел с параметрами, обучающие и валидационные выборки\n",
    "# возвращает метрики прогнозов моделей\n",
    "def make_prediction(mоdel, X_train, y_train, X_test, y_test):\n",
    "    model.fit(X_train, y_train)\n",
    "    y_predict = model.predict(X_test)\n",
    "    y_probabilities = model.predict_proba(X_test)[:,1]\n",
    "    print(f'''\n",
    "    accuracy_score: {accuracy_score(y_test, y_predict)},\n",
    "    precision_score:{precision_score(y_test, y_predict)},\n",
    "    recall_score: {recall_score(y_test, y_predict)},\n",
    "    f1_score: {f1_score(y_test, y_predict)},\n",
    "    roc_auc_score: {roc_auc_score(y_test, y_probabilities)}\n",
    "              ''') \n",
    "\n",
    "# инициализация модели, обучение, прогноз, расчет метрик\n",
    "for model in models:\n",
    "    print(model)\n",
    "    make_prediction(model, X_train, y_train, X_test, y_test)\n",
    "\n",
    "# визуализация  receiver operating characteristic curve\n",
    "    plt.figure(figsize=(5, 4))\n",
    "    false_positive_rate, true_positive_rate, thresholds = roc_curve(y_test, \n",
    "                                                                    model.predict_proba(X_test)[:,1], \n",
    "                                                                    pos_label=1)\n",
    "    plt.plot(false_positive_rate, true_positive_rate, lw=2, label='ROC curve ')\n",
    "    plt.plot([0, 1], [0, 1])\n",
    "    plt.xlim([0.0, 1.0])\n",
    "    plt.ylim([0.0, 1.05])\n",
    "    plt.xlabel('False Positive Rate')\n",
    "    plt.ylabel('True Positive Rate')\n",
    "    plt.title('ROC curve')\n",
    "    plt.show()"
   ]
  },
  {
   "cell_type": "markdown",
   "metadata": {},
   "source": [
    "По метрике доли верных ответов несколько лидирует логистическая регрессия, 92,25% против 91,37% у алгоритма случайного леса. Однако, следует отметить, что метрика accuracy достоверно оценивает модели только при балансе классов, что в представленной выборке отсутствует, соотношение оттока к оставшимся в сервисе клиентов - 26/74.\n",
    "\n",
    "Метрики precision и recall рассчитываются без привязки к классам, при этом метрика точность 85,41% у логрегрессии против 83,41% у классификатора случайного леса, показывает долю правильных ответов среди целевого класса, в данном случае в оттоке. Однако, для целей удержания клиента, важна метрика полнота - сколько реальных оттоков смог обнаружить алгоритм, при этом  даже если алгоритм будет срабатывать \"ложно\", лишним внимание к клиенту со стороны персонала фитнес-центра не будет. Точность логистичекой регресии выше классификатора случайного леса: 82,82% против 81,31%.\n",
    "\n",
    "По метрики баланса между точностью и полнотой - F1, лидирующую позиция также заняла логистическая регрессия, 86,40% против 83,74% у случайного леса.\n",
    "\n",
    "Метрика вероятности отнесения объекта к классу ROC-AUC оценивает модель в случае разбалансировки классов, как раз такой вариант событий представлен в выборке. Показатель логистической регрессии на 0,77 п.п. лучше показателя случайного леса, 97,77% против 97,00%. \n",
    "\n",
    "Таким образом, логистическая регрессия обходит алгоритм случайного леса по всем выбраным оценкам. Ключевым скором для прогнозирования оттока клиентов является recall."
   ]
  },
  {
   "cell_type": "markdown",
   "metadata": {},
   "source": [
    "## Кластеризация пользователей"
   ]
  },
  {
   "cell_type": "code",
   "execution_count": 15,
   "metadata": {},
   "outputs": [
    {
     "data": {
      "image/png": "[encoded data removed]",
      "text/plain": [
       "<Figure size 1080x720 with 1 Axes>"
      ]
     },
     "metadata": {
      "needs_background": "light"
     },
     "output_type": "display_data"
    }
   ],
   "source": [
    "# построение матрицы расстояний\n",
    "linked = linkage(X, method='ward')\n",
    "\n",
    "# визуализация связей дендрограммой\n",
    "plt.figure(figsize=(15, 10))\n",
    "dendrogram(linked, orientation='top')\n",
    "plt.title('Иерархическая кластеризация')\n",
    "plt.show()"
   ]
  },
  {
   "cell_type": "markdown",
   "metadata": {},
   "source": [
    "Таким образом, модель иерархической кластеризации предлагает выделить четыре кластера.\n",
    "\n",
    "Согласно заданию выделим пять кластеров."
   ]
  },
  {
   "cell_type": "code",
   "execution_count": 16,
   "metadata": {},
   "outputs": [
    {
     "data": {
      "text/html": [
       "<div>\n",
       "<style scoped>\n",
       "    .dataframe tbody tr th:only-of-type {\n",
       "        vertical-align: middle;\n",
       "    }\n",
       "\n",
       "    .dataframe tbody tr th {\n",
       "        vertical-align: top;\n",
       "    }\n",
       "\n",
       "    .dataframe thead th {\n",
       "        text-align: right;\n",
       "    }\n",
       "</style>\n",
       "<table border=\"1\" class=\"dataframe\">\n",
       "  <thead>\n",
       "    <tr style=\"text-align: right;\">\n",
       "      <th></th>\n",
       "      <th>gender</th>\n",
       "      <th>near_location</th>\n",
       "      <th>partner</th>\n",
       "      <th>promo_friends</th>\n",
       "      <th>phone</th>\n",
       "      <th>contract_period</th>\n",
       "      <th>group_visits</th>\n",
       "      <th>age</th>\n",
       "      <th>avg_additional_charges_total</th>\n",
       "      <th>month_to_end_contract</th>\n",
       "      <th>lifetime</th>\n",
       "      <th>avg_class_frequency_total</th>\n",
       "      <th>avg_class_frequency_current_month</th>\n",
       "      <th>churn</th>\n",
       "    </tr>\n",
       "    <tr>\n",
       "      <th>cluster</th>\n",
       "      <th></th>\n",
       "      <th></th>\n",
       "      <th></th>\n",
       "      <th></th>\n",
       "      <th></th>\n",
       "      <th></th>\n",
       "      <th></th>\n",
       "      <th></th>\n",
       "      <th></th>\n",
       "      <th></th>\n",
       "      <th></th>\n",
       "      <th></th>\n",
       "      <th></th>\n",
       "      <th></th>\n",
       "    </tr>\n",
       "  </thead>\n",
       "  <tbody>\n",
       "    <tr>\n",
       "      <th>0</th>\n",
       "      <td>0.502970</td>\n",
       "      <td>0.959406</td>\n",
       "      <td>0.783168</td>\n",
       "      <td>0.574257</td>\n",
       "      <td>1.000000</td>\n",
       "      <td>10.889109</td>\n",
       "      <td>0.542574</td>\n",
       "      <td>29.982178</td>\n",
       "      <td>160.761016</td>\n",
       "      <td>9.954455</td>\n",
       "      <td>4.736634</td>\n",
       "      <td>1.982055</td>\n",
       "      <td>1.974789</td>\n",
       "      <td>0.027723</td>\n",
       "    </tr>\n",
       "    <tr>\n",
       "      <th>1</th>\n",
       "      <td>0.522078</td>\n",
       "      <td>0.862338</td>\n",
       "      <td>0.470130</td>\n",
       "      <td>0.306494</td>\n",
       "      <td>0.000000</td>\n",
       "      <td>4.787013</td>\n",
       "      <td>0.425974</td>\n",
       "      <td>29.301299</td>\n",
       "      <td>143.957664</td>\n",
       "      <td>4.475325</td>\n",
       "      <td>3.924675</td>\n",
       "      <td>1.847220</td>\n",
       "      <td>1.716369</td>\n",
       "      <td>0.267532</td>\n",
       "    </tr>\n",
       "    <tr>\n",
       "      <th>2</th>\n",
       "      <td>0.495050</td>\n",
       "      <td>0.000000</td>\n",
       "      <td>0.463366</td>\n",
       "      <td>0.079208</td>\n",
       "      <td>1.000000</td>\n",
       "      <td>2.352475</td>\n",
       "      <td>0.215842</td>\n",
       "      <td>28.477228</td>\n",
       "      <td>135.457501</td>\n",
       "      <td>2.198020</td>\n",
       "      <td>2.809901</td>\n",
       "      <td>1.660461</td>\n",
       "      <td>1.477324</td>\n",
       "      <td>0.443564</td>\n",
       "    </tr>\n",
       "    <tr>\n",
       "      <th>3</th>\n",
       "      <td>0.485737</td>\n",
       "      <td>1.000000</td>\n",
       "      <td>0.350238</td>\n",
       "      <td>0.240095</td>\n",
       "      <td>1.000000</td>\n",
       "      <td>1.948494</td>\n",
       "      <td>0.341521</td>\n",
       "      <td>28.167987</td>\n",
       "      <td>131.622204</td>\n",
       "      <td>1.856577</td>\n",
       "      <td>2.440571</td>\n",
       "      <td>1.247634</td>\n",
       "      <td>1.012983</td>\n",
       "      <td>0.514263</td>\n",
       "    </tr>\n",
       "    <tr>\n",
       "      <th>4</th>\n",
       "      <td>0.559666</td>\n",
       "      <td>0.976134</td>\n",
       "      <td>0.356802</td>\n",
       "      <td>0.230310</td>\n",
       "      <td>0.998807</td>\n",
       "      <td>2.669451</td>\n",
       "      <td>0.473747</td>\n",
       "      <td>30.125298</td>\n",
       "      <td>161.657905</td>\n",
       "      <td>2.459427</td>\n",
       "      <td>4.898568</td>\n",
       "      <td>2.852002</td>\n",
       "      <td>2.850161</td>\n",
       "      <td>0.068019</td>\n",
       "    </tr>\n",
       "  </tbody>\n",
       "</table>\n",
       "</div>"
      ],
      "text/plain": [
       "           gender  near_location   partner  promo_friends     phone  \\\n",
       "cluster                                                               \n",
       "0        0.502970       0.959406  0.783168       0.574257  1.000000   \n",
       "1        0.522078       0.862338  0.470130       0.306494  0.000000   \n",
       "2        0.495050       0.000000  0.463366       0.079208  1.000000   \n",
       "3        0.485737       1.000000  0.350238       0.240095  1.000000   \n",
       "4        0.559666       0.976134  0.356802       0.230310  0.998807   \n",
       "\n",
       "         contract_period  group_visits        age  \\\n",
       "cluster                                             \n",
       "0              10.889109      0.542574  29.982178   \n",
       "1               4.787013      0.425974  29.301299   \n",
       "2               2.352475      0.215842  28.477228   \n",
       "3               1.948494      0.341521  28.167987   \n",
       "4               2.669451      0.473747  30.125298   \n",
       "\n",
       "         avg_additional_charges_total  month_to_end_contract  lifetime  \\\n",
       "cluster                                                                  \n",
       "0                          160.761016               9.954455  4.736634   \n",
       "1                          143.957664               4.475325  3.924675   \n",
       "2                          135.457501               2.198020  2.809901   \n",
       "3                          131.622204               1.856577  2.440571   \n",
       "4                          161.657905               2.459427  4.898568   \n",
       "\n",
       "         avg_class_frequency_total  avg_class_frequency_current_month  \\\n",
       "cluster                                                                 \n",
       "0                         1.982055                           1.974789   \n",
       "1                         1.847220                           1.716369   \n",
       "2                         1.660461                           1.477324   \n",
       "3                         1.247634                           1.012983   \n",
       "4                         2.852002                           2.850161   \n",
       "\n",
       "            churn  \n",
       "cluster            \n",
       "0        0.027723  \n",
       "1        0.267532  \n",
       "2        0.443564  \n",
       "3        0.514263  \n",
       "4        0.068019  "
      ]
     },
     "execution_count": 16,
     "metadata": {},
     "output_type": "execute_result"
    }
   ],
   "source": [
    "# кластеризация пользоватлей, число кластеров - пять\n",
    "# инициализация алгоритма\n",
    "km = KMeans(n_clusters=5, random_state=0)\n",
    "\n",
    "# обучение модели и прогноз\n",
    "labels = km.fit_predict(X)\n",
    "\n",
    "# расчет средних значений признаков по кластерам клиентов\n",
    "gym_churn['cluster'] = labels\n",
    "gym_churn.groupby('cluster').mean()"
   ]
  },
  {
   "cell_type": "code",
   "execution_count": 20,
   "metadata": {},
   "outputs": [
    {
     "data": {
      "text/html": [
       "<div>\n",
       "<style scoped>\n",
       "    .dataframe tbody tr th:only-of-type {\n",
       "        vertical-align: middle;\n",
       "    }\n",
       "\n",
       "    .dataframe tbody tr th {\n",
       "        vertical-align: top;\n",
       "    }\n",
       "\n",
       "    .dataframe thead th {\n",
       "        text-align: right;\n",
       "    }\n",
       "</style>\n",
       "<table border=\"1\" class=\"dataframe\">\n",
       "  <thead>\n",
       "    <tr style=\"text-align: right;\">\n",
       "      <th></th>\n",
       "      <th>features</th>\n",
       "      <th>feature_importances</th>\n",
       "    </tr>\n",
       "  </thead>\n",
       "  <tbody>\n",
       "    <tr>\n",
       "      <th>0</th>\n",
       "      <td>gender</td>\n",
       "      <td>0.008458</td>\n",
       "    </tr>\n",
       "    <tr>\n",
       "      <th>1</th>\n",
       "      <td>near_location</td>\n",
       "      <td>0.006688</td>\n",
       "    </tr>\n",
       "    <tr>\n",
       "      <th>2</th>\n",
       "      <td>partner</td>\n",
       "      <td>0.010189</td>\n",
       "    </tr>\n",
       "    <tr>\n",
       "      <th>3</th>\n",
       "      <td>promo_friends</td>\n",
       "      <td>0.008678</td>\n",
       "    </tr>\n",
       "    <tr>\n",
       "      <th>4</th>\n",
       "      <td>phone</td>\n",
       "      <td>0.005328</td>\n",
       "    </tr>\n",
       "    <tr>\n",
       "      <th>5</th>\n",
       "      <td>contract_period</td>\n",
       "      <td>0.064025</td>\n",
       "    </tr>\n",
       "    <tr>\n",
       "      <th>6</th>\n",
       "      <td>group_visits</td>\n",
       "      <td>0.014931</td>\n",
       "    </tr>\n",
       "    <tr>\n",
       "      <th>7</th>\n",
       "      <td>age</td>\n",
       "      <td>0.120844</td>\n",
       "    </tr>\n",
       "    <tr>\n",
       "      <th>8</th>\n",
       "      <td>avg_additional_charges_total</td>\n",
       "      <td>0.075285</td>\n",
       "    </tr>\n",
       "    <tr>\n",
       "      <th>9</th>\n",
       "      <td>month_to_end_contract</td>\n",
       "      <td>0.104349</td>\n",
       "    </tr>\n",
       "    <tr>\n",
       "      <th>10</th>\n",
       "      <td>lifetime</td>\n",
       "      <td>0.308087</td>\n",
       "    </tr>\n",
       "    <tr>\n",
       "      <th>11</th>\n",
       "      <td>avg_class_frequency_total</td>\n",
       "      <td>0.116239</td>\n",
       "    </tr>\n",
       "    <tr>\n",
       "      <th>12</th>\n",
       "      <td>avg_class_frequency_current_month</td>\n",
       "      <td>0.156899</td>\n",
       "    </tr>\n",
       "  </tbody>\n",
       "</table>\n",
       "</div>"
      ],
      "text/plain": [
       "                             features  feature_importances\n",
       "0                              gender             0.008458\n",
       "1                       near_location             0.006688\n",
       "2                             partner             0.010189\n",
       "3                       promo_friends             0.008678\n",
       "4                               phone             0.005328\n",
       "5                     contract_period             0.064025\n",
       "6                        group_visits             0.014931\n",
       "7                                 age             0.120844\n",
       "8        avg_additional_charges_total             0.075285\n",
       "9               month_to_end_contract             0.104349\n",
       "10                           lifetime             0.308087\n",
       "11          avg_class_frequency_total             0.116239\n",
       "12  avg_class_frequency_current_month             0.156899"
      ]
     },
     "execution_count": 20,
     "metadata": {},
     "output_type": "execute_result"
    }
   ],
   "source": [
    "# оценка важности признаков при классификации методом случайного леса\n",
    "features = gym_churn.columns\n",
    "feature_importances = (\n",
    "    RandomForestClassifier(n_estimators=50, max_depth=10)\n",
    "    .fit(X_train, y_train)\n",
    "    .feature_importances_\n",
    ")\n",
    "\n",
    "pd.DataFrame(list(zip(features, feature_importances)), columns=['features','feature_importances'])"
   ]
  },
  {
   "cell_type": "markdown",
   "metadata": {},
   "source": [
    "Итак, клиенты разделены на пять групп. \n",
    "\n",
    "Основой для классификации на группы выступили следующие признаки: \n",
    "\n",
    "- лайфтайм; \n",
    "- средняя посещаемость зала в неделю за текущий месяц; \n",
    "- средняя посещаемость зала за все время наблюдения; \n",
    "- возраст; \n",
    "- расходы клиента на сопутсвующие услуги;\n",
    "- количество месяцев до окончания контракта(длительность контраткта).\n",
    "\n",
    "Рассмотрим типовые особенности каждого кластера:\n",
    "\n",
    "1. Пол. Доля мужчин и женщин в каждой группе примерно равная, выделяется пятый кластер с преобладащей долей мужчин в 55%. Пол не явлется основанием разделения на группы.\n",
    "2. Проживание и работа вблизи зала. Все группы за исключение тертьей проживают или работают вблизи фитнес центра, в группе два 86% таковых, в прочих группах значения близке к единице. Близкое расположение явлется основанием для выдления в отдельную группу третьего кластера.\n",
    "3. Работодатель - парнер клуба. Первый кластер лидерует по данному показателю - 78% клиентов трудоустроены у парнера клуба. По 35% клиентов-парнеров у четвертого и пятого, примерно равная доля у второго и третьего - 47% и 46% соответсвенно. Партерские отношения являются основанием для выделения преобладающего по данному признаку первого кластера.\n",
    "4. Промо-акция. В большей степенью промо-акцией воспользовалиьс клиенты группы 1 - 57%, в меньшей - клиенты группы 3 - 8%. В равных долях акционые пользоватлеи присутсвуют в четвертом и пятом кластере - 23-24%, 30% во втром сегменте. Промо стало основанием деления на кластеры для алгоритма: веса пользоватлей по группам различаются значительно.\n",
    "5. Контакт. Все группы, за исключением второй, поделились контактыми данными. Контакты пользователя стали основанием для выделения одного (второго) сегмета клиентов.\n",
    "6. Срок абонемента. Представили первой группы приобретают годовой абонемент, представители четвертой группы приобретают абонемент помесячно, клиенты из второй, третьей и пятой группы преобретают квартальные абонементы. Длительность абонемента позволило алгоритму разделить клиентов на три группы: первый кластер, четвертый кластер и клиенты второго, третьего и пятого кластеров.\n",
    "7. Групповые тренировки. 54% клиента первого сегметна, 47% пятого сегмента и 42% второго сегмента посещают групповые тренировки. В меньше степени к групповым занятиям тяготеют представители третьего и четвертого сегментов - 21% и 34% посещают такие тренировки. Признак посещения групповых тренировок позволяет выделить три кластера пользователей.\n",
    "8. Возраст клиентов. Средний возраст клиентов по кластерам совпадает со среднем возрастом всей, представленной на анализ выборки, - 28-30 лет. Возраст не явлется основанием разделения на группы.\n",
    "9. Траты клиентов на сопутсвующие услуги. Примерно по 160 составляет выручка клуба от клиентов первого и пятого кластеров, 144 от второго кластера и 131-135 от клиентов третьего-четвертого сегментов. Алгоритм выявил три группы, опираясь на сопуствующие расходы пользоватлей.\n",
    "10. Месяцев до окончания контракта. Аналогично признаку длительности абонемента, алгоритм разделил пользователь на три группы: 10 месяцев до истечения абонемента (первая группа), пять месяцев (вторая группа), по три месяца - третья и пятая группы и месяц для четвертой группы.\n",
    "11. Лайфтайм. Три сегмента: 5 месяцеыв в среднем посещают зал представители первого и пятого сегмента, 4 месяца - второго сегмента и по 3 месяца третьего-четвертого сегмента.\n",
    "12. Среднее количество тренировок в неделю за все время наблюдения/за текущий месяц. Схожее деление продемонстрировал алгоритм: три, две и одна тренировка в месяц у пятого, первого-второго и третьего-четвертого кластеров.\n",
    "\n",
    "Оценим долю выбывших по кластерам и охаратеризуем группы по надежности и оттоку.\n",
    "\n",
    "1. Клиенты третьего и четвертого кластеров склонны покидать клуб - 44% и 51% соответсвенно.\n",
    "\n",
    "Это клиенты, которые в меньшей степени являются парнерскими организациями, воспользовались промо, с месячным абонементом, не любители групповых тренировок и не склонные к приобретению сопуствующих услуг клуба. Сервисом пользуются не более трех месяцев и склонны посещать зал раз в неделю.\n",
    "\n",
    "2. Клиенты первого и пятого кластеров относятся к категории якорных пользоватлей - 2% и 6% покинули клуб.\n",
    "\n",
    "Это клиенты парнерских сервисов, воспользовалиьс акцией при покупки абонемента, срок абонемета от квартала до года, завсегдатеи групповых занятий, не скупятся на услуги массажа и протеинвого шейка, с клубом знакомы более полугода, посещают зал три раза в неделю.\n",
    "\n",
    "3. Нейтральные пользователи - второй сегмент 26% оттока. \n",
    "\n",
    "Занимают промедуточное положение. Являются точкоц приложения усилий продуктовых и маркетинговых спеиалистов с целью перехода в разряд надежных клиентов.\n",
    "\n",
    "Таким образом, целесообразно выделить три кластера клиентов - надежные, нетральные, уходящие.\n",
    "\n",
    "Далее дополнительно изучим распределние признаков клиентов по кластерам."
   ]
  },
  {
   "cell_type": "code",
   "execution_count": null,
   "metadata": {},
   "outputs": [],
   "source": [
    "# визуализация распределений признаков по кластерам\n",
    "plt.figure(figsize=(20, 20))\n",
    "\n",
    "# возраст клиентов по кластерам\n",
    "plt.subplot(5, 5, 1)\n",
    "sns.distplot(gym_churn[gym_churn['cluster'] == 0]['age'], kde=False)\n",
    "plt.title('Первый кластер')\n",
    "plt.xlabel('Возраст клиента')\n",
    "\n",
    "plt.subplot(5, 5, 2)\n",
    "sns.distplot(gym_churn[gym_churn['cluster'] == 1]['age'], kde=False)\n",
    "plt.title('Второй кластер')\n",
    "plt.xlabel('Возраст клиента')\n",
    "\n",
    "plt.subplot(5, 5, 3)\n",
    "sns.distplot(gym_churn[gym_churn['cluster'] == 2]['age'], kde=False)\n",
    "plt.title('Третий кластер')\n",
    "plt.xlabel('Возраст клиента')\n",
    "\n",
    "plt.subplot(5, 5, 4)\n",
    "sns.distplot(gym_churn[gym_churn['cluster'] == 3]['age'], kde=False)\n",
    "plt.title('Четвертый кластер')\n",
    "plt.xlabel('Возраст клиента')\n",
    "\n",
    "plt.subplot(5, 5, 5)\n",
    "sns.distplot(gym_churn[gym_churn['cluster'] == 4]['age'], kde=False)\n",
    "plt.title('Пятый кластер')\n",
    "plt.xlabel('Возраст клиента')\n",
    "\n",
    "# траты на сопутсвующие услуги\n",
    "plt.subplot(5, 5, 6)\n",
    "sns.distplot(gym_churn[gym_churn['cluster'] == 0]['avg_additional_charges_total'], kde=False)\n",
    "plt.xlabel('Выручка с клиента')\n",
    "\n",
    "plt.subplot(5, 5, 7)\n",
    "sns.distplot(gym_churn[gym_churn['cluster'] == 1]['avg_additional_charges_total'], kde=False)\n",
    "plt.xlabel('Выручка с клиента')\n",
    "\n",
    "plt.subplot(5, 5, 8)\n",
    "sns.distplot(gym_churn[gym_churn['cluster'] == 2]['avg_additional_charges_total'], kde=False)\n",
    "plt.xlabel('Выручка с клиента')\n",
    "\n",
    "plt.subplot(5, 5, 9)\n",
    "sns.distplot(gym_churn[gym_churn['cluster'] == 3]['avg_additional_charges_total'], kde=False)\n",
    "plt.xlabel('Выручка с клиента')\n",
    "\n",
    "plt.subplot(5, 5, 10)\n",
    "sns.distplot(gym_churn[gym_churn['cluster'] == 4]['avg_additional_charges_total'], kde=False)\n",
    "plt.xlabel('Выручка с клиента')\n",
    "\n",
    "# срок действия абонемента\n",
    "plt.subplot(5, 5, 11)\n",
    "sns.distplot(gym_churn[gym_churn['cluster'] == 0]['contract_period'], kde=False)\n",
    "plt.xlabel('Срок действия абонемента, месяцы')\n",
    "\n",
    "plt.subplot(5, 5, 12)\n",
    "sns.distplot(gym_churn[gym_churn['cluster'] == 1]['contract_period'], kde=False)\n",
    "plt.xlabel('Срок действия абонемента, месяцы')\n",
    "\n",
    "plt.subplot(5, 5, 13)\n",
    "sns.distplot(gym_churn[gym_churn['cluster'] == 2]['contract_period'], kde=False)\n",
    "plt.xlabel('Срок действия абонемента, месяцы')\n",
    "\n",
    "plt.subplot(5, 5, 14)\n",
    "sns.distplot(gym_churn[gym_churn['cluster'] == 3]['contract_period'], kde=False)\n",
    "plt.xlabel('Срок действия абонемента, месяцы')\n",
    "\n",
    "plt.subplot(5, 5, 15)\n",
    "sns.distplot(gym_churn[gym_churn['cluster'] == 4]['contract_period'], kde=False)\n",
    "plt.xlabel('Срок действия абонемента, месяцы')\n",
    "\n",
    "# лайфтам клиента\n",
    "plt.subplot(5, 5, 16)\n",
    "sns.distplot(gym_churn[gym_churn['cluster'] == 0]['lifetime'], kde=False)\n",
    "plt.xlabel('Лайфтайм, месяцы')\n",
    "\n",
    "plt.subplot(5, 5, 17)\n",
    "sns.distplot(gym_churn[gym_churn['cluster'] == 1]['lifetime'], kde=False)\n",
    "plt.xlabel('Лайфтайм, месяцы')\n",
    "\n",
    "plt.subplot(5, 5, 18)\n",
    "sns.distplot(gym_churn[gym_churn['cluster'] == 2]['lifetime'], kde=False)\n",
    "plt.xlabel('Лайфтайм, месяцы')\n",
    "\n",
    "plt.subplot(5, 5, 19)\n",
    "sns.distplot(gym_churn[gym_churn['cluster'] == 3]['lifetime'], kde=False)\n",
    "plt.xlabel('Лайфтайм, месяцы')\n",
    "\n",
    "plt.subplot(5, 5, 20)\n",
    "sns.distplot(gym_churn[gym_churn['cluster'] == 4]['lifetime'], kde=False)\n",
    "plt.xlabel('Лайфтайм, месяцы')\n",
    "\n",
    "# регулярность посещения зала (за все время наблюдения)\n",
    "plt.subplot(5, 5, 21)\n",
    "sns.distplot(gym_churn[gym_churn['cluster'] == 0]['avg_class_frequency_total'], kde=False)\n",
    "plt.xlabel('Количество посещений в неделю')\n",
    "\n",
    "plt.subplot(5, 5, 22)\n",
    "sns.distplot(gym_churn[gym_churn['cluster'] == 1]['avg_class_frequency_total'], kde=False)\n",
    "plt.xlabel('Количество посещений в неделю')\n",
    "\n",
    "plt.subplot(5, 5, 23)\n",
    "sns.distplot(gym_churn[gym_churn['cluster'] == 2]['avg_class_frequency_total'], kde=False)\n",
    "plt.xlabel('Количество посещений в неделю')\n",
    "\n",
    "plt.subplot(5, 5, 24)\n",
    "sns.distplot(gym_churn[gym_churn['cluster'] == 3]['avg_class_frequency_total'], kde=False)\n",
    "plt.xlabel('Количество посещений в неделю')\n",
    "\n",
    "plt.subplot(5, 5, 25)\n",
    "sns.distplot(gym_churn[gym_churn['cluster'] == 4]['avg_class_frequency_total'], kde=False)\n",
    "plt.xlabel('Количество посещений в неделю')\n",
    "\n",
    "plt.suptitle('Распределение признаков клиентов по кластерам', fontsize=15)\n",
    "plt.show()"
   ]
  },
  {
   "cell_type": "markdown",
   "metadata": {},
   "source": [
    "Итак, надежными признаны клиенты первого и пятого кластеров. Клиенты этих групп имеют схожее возрастное распределение, однако, в первой группе отсутвует возрастная категория 27, 31, 34 года, а в пятом кластере не представлены клиенты возрастной категории 26, 29, 34. Клиенты первого сегмета уверенно тратят до 250, а клиенты пятого - до 350 на сопутсвующие услуги, при этом в пятом сегменте есть польователи приносящие выручку до 500. надежные клиенты - это клиенты первого сегмента с преобладающим годовым абонементом, пятого сегмента с квартальным. Надежные клиенты уверенно пользуются продуктом до полугода, а ряд пользоватлей до 30 месяцев. Надежные клиенты тяготеют посеящат зал не менее трех раз в неделю, при этом ряд атлетов занимается по 5-6 раз в неделю.\n",
    "\n",
    "Оттоку подвержены пользователи третьего и четвертого кластеров. Возраст преобладает либо 31 год либо 27 лет (то есть эти тот возрастной период, который \"выпал\" из надежных кластеров). Дополнительная выручка с таких клиентов в большинстве своем не превышает 200, срок действия абонемента строго до квартала. Это клиенты, которые знакомы с залом до двух месяцев и посещают зал не более шести раз в месяц.\n",
    "\n",
    "Нейтральные клиенты - второй кластер. Поля для работы продуктовых и маркетинговых отделов.\n",
    "\n",
    "Исходя из полученных данных, дадим общие реккомендации по снижению оттока клиентов."
   ]
  },
  {
   "cell_type": "markdown",
   "metadata": {},
   "source": [
    "## Выводы"
   ]
  },
  {
   "cell_type": "markdown",
   "metadata": {},
   "source": [
    "1. Клиенты фитнес-центра харатеризуються следующими признаками: 51% клиентов мужского пола, 84% клиентов относятся к близкой к фитнес-центру локации, 48% процентов клиентов работат в партнерских компаниях, 31% приняли участие в промо-акции, 90% поделилось контрактной информацией, 41% клиентов посещают груповые тренировки, отток на текущей месяц по имеющимся наблюдениям составляет 26%.\n",
    "\n",
    "2. Результаты пользования сервисом по имеющимся данным следующие. Большинство пользователей приобретают абонемент на срок до двух месяцев. Однако, среднее значение в пять месяцев и стандартное отклонении в в 4,54 месяца свидетельствует о достаточно широком распределении признака. Медиана признака равна единице - половина пользоватлей покупает абонемент на месяц, при этом 75% пользоватлей приобретают абонемент на полгода. Такое смещение длительности контракта объясняется наличием клиентов с годовым абонементом, превышающем число клиентов с пологодовым абонементом. Пользователей с абонементом превышащей годовой горизонт - нет, очевидно такое предложение на рынке отсутсвует.\n",
    "\n",
    "Распределение возраста клиентов фитнес-центра имеет классический нормальный характер со среднем значением в 29 лет равным медиане. Стандартное отклонение 3,25 лет. Аномальными представлется возможным признать возраст клиентов страше 36 лет и моложе 21 года - таких клиентов шесть.\n",
    "\n",
    "Выручка, как и любой прочий результат деятельности целовека, всего имеет скошенное вправо распределение: большинство пользоватлей несут расходы близкие к нулю, а редкие аномалии тратят значительные средства.\n",
    "\n",
    "Так, среднее значение выручки в 146, при медиане в 136 говорит о наличии \"жирного\" хвоста, который \"перетягиевает\" на себя статистику - среднее значение. 25% клиентов тратят на прочие услуги 68, 75% - 210. Максимльное значение выручки от прочих услуг фитнес-центра равно 552. Анамально высокими значениями выручки представлется возмодным признать значения больше 318. Стандатное отклонение в 96 - свидетельствет о достаточно широком распределении признака.\n",
    "\n",
    "В виду наличия трех мод у распредления длительности абонемента, распределение срока окончания абонемента также имеет три ярко выраженные группы: месяц до окончания абонемента - это те пользоватлеи, которые приобретают контракт ежемесячно; полгода и год - соответсвенно пользователи с пологодовыми и годовыми абонементами.\n",
    "\n",
    "По этой же причины статистики распределения количества месяцов до кончания абонемента схожи со статистиками длительности абонемента: медиана в единце, среднее значение 4 месяца при стандартном отклонении в 4 месяца.\n",
    "\n",
    "У ряда пользователей срок окончания абонемента истекает соответсвенно через 4 и 5 месяцев - это могут быть пользоватлеи, как с годовыми, так и с пологодовыми картами, у некоторых срок дествия истекает через 8-10 месяцев - это клиенты с годовой картой.\n",
    "\n",
    "Таким образом, на стадии исследовательского анализа, можно сделать вывод, что предсказывать отток клиентов модель будет у 50% пользователей с сроком дейтсвия карты до месяца. При этом, из предоставленных данных, достоверно известно, что 26% пользоватлей не продлят абонемент. Таким образом, маркетиноговые усилия стоит сосредоточить на порядка 15% отказников.\n",
    "\n",
    "В среднем клиенты посещают зал на протяжении четырех месяцев, при этом половина клиентов пользуется центром три месяца. Шикорое распределение лайфтайма со стандартными отклонением в 4 месяца говорит, как о наличии целевой аудитории у зала, так и о наличии у зала \"подснежников\" - сезоных посетителей тренировок.\n",
    "\n",
    "Аномально длительным лайфтайм представляется воможным признать значения превышающие 11 месяцев, то такие уникумов в представленной выборке из 4000 наблюдений всего 17.\n",
    "\n",
    "3. В ходе изучения распределения признаком целевой переменной отмечено наличие выбросов - явно выбивающихся значений из выборки, в связи с чем применем ранговую модель корреляции для оценки наличия возможной линейной взаимосвязи между данными.\n",
    "\n",
    "Так, очевидно, между собой сильно коррелируют признаки срока действия абонемента и количество месяцев до окончания абонемента, а также среднее количество посещений в неделю за весь период наблюдений и за последний месяц. Прочих сильных связей не выявлено.\n",
    "\n",
    "При этом ожидаемая связь между расходами клиента на прочие услуги фитнес центра и срок абонемента, лайфтаймом и частотой посещений в неделю не выявлено, что странно: клиенты, которые живут в сервисе долго и часто посещают зал, обычно приносят больше дополнительной выручки.\n",
    "\n",
    "Дополнительно отменим, что целевая переменная больше всего отрицательно коррелирует с частотой посещения зала в неделю в последнем месяца и лайфтаймом. Логично. Чем дольше клиент у нас в сервисе и чем комфортнее ему у нас пребывать, тем меньше шансов, что он уйдет. Однако, возможны варианты, что клиент решил покунуить зал и интенсивно \"дохаживает\" действующий абонемент.\n",
    "\n",
    "Возраст и срок абонемента также явлются решающими факторами: чем моложе пользователь, тем больше вероятность, что он останется с нами и чем короче период контракта клиента, тем вероятнее всего он покинет зал. Что вполне логично, возможно, зал не возращает деньги при разрыве договора или возможно система взаимодействия с пользователями считает пользователя \"живым\", пока у него активный контракт.\n",
    "\n",
    "Половая принадлженость и факт оставления контакта клиента не влияют на отток.\n",
    "\n",
    "4. Влияние на отток поведний клиента следующее. Пол и оставление контактов не влияет на отток: по 51% мужчин в обоих группах и по 90% оставивших контакт в обоих группах, а проживание и работа вблизи зала, а также парнерский характер взаимотноений, наличии промо влияют и посещение групповых занятий влияют: так 87% против 77% остались в сервисе, если работают или живут рядом с залом; 53% против 35% остались, если работодатель парнер фитнес-центра, 35% против 18% не оттекли, если воспользовались промо-акцией, 46% против 27% процентов остались в зале, если посещают групповые занятия.\n",
    "\n",
    "Средняя длительность абонемента у оставшихся в сервисе полгода против 1,7 месяца у группа оттока, средний возраст у оставшихся клиентов 30 лет, у покинувших 27 лет. Ушедшие польователи тратят в среднем 115 против 158 у сохранивших абонемент; пять месяцев против одного лайфтайм оставшихся пользоватлей и средняя частота посещения два раза в неделю против 1,5 и одного соответсвенно у оттока.\n",
    "\n",
    "5. Для дальнейшего прогноза оттока клиентов, предложены модели логистической регрессии и классификатора случайного леса. Модели построены, произведена оценка \"предсказательных способностей\". Так, по метрике доли верных ответов несколько лидирует логистическая регрессия, 92,25% против 91,37% у алгоритма случайного леса. Однако, следует отметить, что метрика accuracy достоверно оценивает модели только при балансе классов, что в представленной выборке отсутствует, соотношение оттока к оставшимся в сервисе клиентов - 26/74.\n",
    "\n",
    "Метрики precision и recall рассчитываются без привязки к классам, при этом метрика точность 85,41% у логрегрессии против 83,41% у классификатора случайного леса, показывает долю правильных ответов среди целевого класса, в данном случае в оттоке. Однако, для целей удержания клиента, важна метрика полнота - сколько реальных оттоков смог обнаружить алгоритм, при этом даже если алгоритм будет срабатывать \"ложно\", лишним внимание к клиенту со стороны персонала фитнес-центра не будет. Точность логистичекой регресии выше классификатора случайного леса: 82,82% против 81,31%.\n",
    "\n",
    "Таким образом, логистическая регрессия обходит алгоритм случайного леса по всем выбраным оценкам. Ключевым скором для прогнозирования оттока клиентов является recall.\n",
    "\n",
    "6. По имеющимся данным построена дендрограмма иерархической кластеризации. Алгоритм предложил выделить 4 кластера. Согласно пставленой задачи, пользователи кластерезирована на пять сегметров. Выделены характерные паттерны каждого. \n",
    "\n",
    "Пол. Доля мужчин и женщин в каждой группе примерно равная, выделяется пятый кластер с преобладащей долей мужчин в 55%. Пол не явлется основанием разделения на группы.\n",
    "\n",
    "Проживание и работа вблизи зала. Все группы за исключение тертьей проживают или работают вблизи фитнес центра, в группе два 86% таковых, в прочих группах значения близке к единице. Близкое расположение явлется основанием для выдления в отдельную группу третьего кластера.\n",
    "\n",
    "Работодатель - парнер клуба. Первый кластер лидерует по данному показателю - 78% клиентов трудоустроены у парнера клуба. По 35% клиентов-парнеров у четвертого и пятого, примерно равная доля у второго и третьего - 47% и 46% соответсвенно. Партерские отношения являются основанием для выделения преобладающего по данному признаку первого кластера.\n",
    "\n",
    "Промо-акция. В большей степенью промо-акцией воспользовалиьс клиенты группы 1 - 57%, в меньшей - клиенты группы 3 - 8%. В равных долях акционые пользоватлеи присутсвуют в четвертом и пятом кластере - 23-24%, 30% во втром сегменте. Промо стало основанием деления на кластеры для алгоритма: веса пользоватлей по группам различаются значительно.\n",
    "\n",
    "Контакт. Все группы, за исключением второй, поделились контактыми данными. Контакты пользователя стали основанием для выделения одного (второго) сегмета клиентов.\n",
    "\n",
    "Срок абонемента. Представили первой группы приобретают годовой абонемент, представители четвертой группы приобретают абонемент помесячно, клиенты из второй, третьей и пятой группы преобретают квартальные абонементы. Длительность абонемента позволило алгоритму разделить клиентов на три группы: первый кластер, четвертый кластер и клиенты второго, третьего и пятого кластеров.\n",
    "\n",
    "Групповые тренировки. 54% клиента первого сегметна, 47% пятого сегмента и 42% второго сегмента посещают групповые тренировки. В меньше степени к групповым занятиям тяготеют представители третьего и четвертого сегментов - 21% и 34% посещают такие тренировки. Признак посещения групповых тренировок позволяет выделить три кластера пользователей.\n",
    "\n",
    "Возраст клиентов. Средний возраст клиентов по кластерам совпадает со среднем возрастом всей, представленной на анализ выборки, - 28-30 лет. Возраст не явлется основанием разделения на группы.\n",
    "\n",
    "Траты клиентов на сопутсвующие услуги. Примерно по 160 составляет выручка клуба от клиентов первого и пятого кластеров, 144 от второго кластера и 131-135 от клиентов третьего-четвертого сегментов. Алгоритм выявил три группы, опираясь на сопуствующие расходы пользоватлей.\n",
    "\n",
    "Месяцев до окончания контракта. Аналогично признаку длительности абонемента, алгоритм разделил пользователь на три группы: 10 месяцев до истечения абонемента (первая группа), пять месяцев (вторая группа), по три месяца - третья и пятая группы и месяц для четвертой группы.\n",
    "\n",
    "Лайфтайм. Три сегмента: 5 месяцеыв в среднем посещают зал представители первого и пятого сегмента, 4 месяца - второго сегмента и по 3 месяца третьего-четвертого сегмента.\n",
    "\n",
    "Среднее количество тренировок в неделю за все время наблюдения/за текущий месяц. Схожее деление продемонстрировал алгоритм: три, две и одна тренировка в месяц у пятого, первого-второго и третьего-четвертого кластеров. \n",
    "\n",
    "8. Проведена оценка доли выбывших по кластерам, группы охарактеризованы по надежности и оттоку.\n",
    "\n",
    "Клиенты третьего и четвертого кластеров склонны покидать клуб - 44% и 51% соответсвенно.\n",
    "Это клиенты, которые в меньшей степени являются парнерскими организациями, воспользовались промо, с месячным абонементом, не любители групповых тренировок и не склонные к приобретению сопуствующих услуг клуба. Сервисом пользуются не более трех месяцев и склонны посещать зал раз в неделю. Возраст преобладает либо 31 год либо 27 лет (то есть эти тот возрастной период, который \"выпал\" из надежных кластеров). Дополнительная выручка с таких клиентов в большинстве своем не превышает 200, срок действия абонемента строго до квартала. Это клиенты, которые знакомы с залом до двух месяцев и посещают зал не более шести раз в месяц.\n",
    "\n",
    "Клиенты первого и пятого кластеров относятся к категории якорных пользоватлей - 2% и 6% покинули клуб.\n",
    "Это клиенты парнерских сервисов, воспользовалиьс акцией при покупки абонемента, срок абонемета от квартала до года, завсегдатеи групповых занятий, не скупятся на услуги массажа и протеинвого шейка, с клубом знакомы более полугода, посещают зал три раза в неделю. \n",
    "\n",
    "Детальнее. Клиенты надежных кластеров имеют схожее возрастное распределение, однако, в первой группе отсутвует возрастная категория 27, 31, 34 года, а в пятом кластере не представлены клиенты возрастной категории 26, 29, 34. Клиенты первого сегмета уверенно тратят до 250, а клиенты пятого - до 350 на сопутсвующие услуги, при этом в пятом сегменте есть польователи приносящие выручку до 500. надежные клиенты - это клиенты первого сегмента с преобладающим годовым абонементом, пятого сегмента с квартальным. Надежные клиенты уверенно пользуются продуктом до полугода, а ряд пользоватлей до 30 месяцев. Надежные клиенты тяготеют посеящат зал не менее трех раз в неделю, при этом ряд атлетов занимается по 5-6 раз в неделю.\n",
    "\n",
    "Нейтральные пользователи - второй сегмент 26% оттока.\n",
    "Занимают промедуточное положение. Являются точкоц приложения усилий продуктовых и маркетинговых спеиалистов с целью перехода в разряд надежных клиентов.\n",
    "\n",
    "Таким образом, целесообразно выделить три кластера клиентов - надежные, нетральные, уходящие."
   ]
  },
  {
   "cell_type": "markdown",
   "metadata": {},
   "source": [
    "## Базовые рекомендации по работе с клиентами"
   ]
  },
  {
   "cell_type": "markdown",
   "metadata": {},
   "source": [
    "Согласно ранговой корреляции, представленные на анализ признаки взаимосвязаны с оттоком следущей \"силой\". Наибольшее влияние оказывают лайфттайм: чем дольше клиент в сервисе, тем менее он склонен к оттоку; среднее количество посещений в неделю, чем чаще клиент посещат зал, тем вероятнее продление абонемента; возраст и срок контракта: чем старше клиент и чем длинее срок, приобртенного абонемента, тем меньше шансов уйти из зала.\n",
    "\n",
    "Макретинговые программы, такие как близкое расположение к клиенту, парнерские и промо-акции, бесплатные групповые занятия сильного эффекта сами по себе не имеют, однако, из-за слабой корреляции между собой имеют куммулятивный эффект на общий результат: снижение оттока.\n",
    "\n",
    "Пол и оставление контактной информации не влияют на решение клиента о продление абонемента.\n",
    "\n",
    "Таким образом, персоналу следует сконцентрировать маркетинговые усилия на привлечения клиентов старше 30 лет, на пологодовые/годовые контракты и откалибровать ценовую политику клуба, с целью увеличения лайфтайма пользователей.\n",
    "\n",
    "В процессе анализа выделено пять групп клиентов. Алгоритм важными признал следующие признаки: лайфтайм, средняя посещаемость зала в неделю за текущий месяц, средняя посещаемость зала за все время наблюдения, возраст, расходы клиента на сопутсвующие услуги, количество месяцев до окончания контракта.\n",
    "\n",
    "Ряд значимых особенностей, выявленных моделью совпадают с особенностями клиентов, установленных аналитическим путем.\n",
    "\n",
    "Таким образом, лайфтайм, возраст, частота посещения зала и длительностью контракта, совместно с сопутсвующими расходами, - ключевое направление работы менеджмента клуба по удержанию надежного сегмента клиентов и перевода нейтральных в такой статус."
   ]
  }
 ],
 "metadata": {
  "ExecuteTimeLog": [
   {
    "duration": 705,
    "start_time": "2022-03-22T11:17:44.989Z"
   },
   {
    "duration": 168,
    "start_time": "2022-03-22T11:18:31.393Z"
   },
   {
    "duration": 924,
    "start_time": "2022-03-22T11:19:26.394Z"
   },
   {
    "duration": 28,
    "start_time": "2022-03-22T11:20:40.395Z"
   },
   {
    "duration": 20,
    "start_time": "2022-03-22T11:21:12.050Z"
   },
   {
    "duration": 19,
    "start_time": "2022-03-22T11:31:04.737Z"
   },
   {
    "duration": 31,
    "start_time": "2022-03-22T11:35:01.295Z"
   },
   {
    "duration": 26,
    "start_time": "2022-03-22T11:35:12.716Z"
   },
   {
    "duration": 25,
    "start_time": "2022-03-22T11:35:41.057Z"
   },
   {
    "duration": 23,
    "start_time": "2022-03-22T11:37:17.289Z"
   },
   {
    "duration": 25,
    "start_time": "2022-03-22T11:37:37.944Z"
   },
   {
    "duration": 66,
    "start_time": "2022-03-22T14:16:26.063Z"
   },
   {
    "duration": 51,
    "start_time": "2022-03-23T06:35:31.485Z"
   },
   {
    "duration": 409,
    "start_time": "2022-03-23T06:35:37.439Z"
   },
   {
    "duration": 50,
    "start_time": "2022-03-23T06:35:37.968Z"
   },
   {
    "duration": 19,
    "start_time": "2022-03-23T06:35:39.272Z"
   },
   {
    "duration": 17,
    "start_time": "2022-03-23T06:36:03.672Z"
   },
   {
    "duration": 47,
    "start_time": "2022-03-23T06:36:10.248Z"
   },
   {
    "duration": 32,
    "start_time": "2022-03-23T06:54:33.005Z"
   },
   {
    "duration": 687,
    "start_time": "2022-03-23T06:54:44.467Z"
   },
   {
    "duration": 530,
    "start_time": "2022-03-23T07:00:45.523Z"
   },
   {
    "duration": 202,
    "start_time": "2022-03-23T07:00:52.036Z"
   },
   {
    "duration": 528,
    "start_time": "2022-03-23T07:01:14.584Z"
   },
   {
    "duration": 157,
    "start_time": "2022-03-23T07:01:53.558Z"
   },
   {
    "duration": 822,
    "start_time": "2022-03-23T07:03:32.139Z"
   },
   {
    "duration": 739,
    "start_time": "2022-03-23T07:04:00.644Z"
   },
   {
    "duration": 3627,
    "start_time": "2022-03-23T07:04:48.144Z"
   },
   {
    "duration": 3739,
    "start_time": "2022-03-23T07:05:23.177Z"
   },
   {
    "duration": 3,
    "start_time": "2022-03-23T07:07:54.863Z"
   },
   {
    "duration": 213,
    "start_time": "2022-03-23T07:09:58.770Z"
   },
   {
    "duration": 219,
    "start_time": "2022-03-23T07:10:14.866Z"
   },
   {
    "duration": 5,
    "start_time": "2022-03-23T07:11:00.477Z"
   },
   {
    "duration": 279,
    "start_time": "2022-03-23T07:11:06.979Z"
   },
   {
    "duration": 234,
    "start_time": "2022-03-23T07:23:34.811Z"
   },
   {
    "duration": 410,
    "start_time": "2022-03-23T07:25:09.885Z"
   },
   {
    "duration": 238,
    "start_time": "2022-03-23T07:26:05.734Z"
   },
   {
    "duration": 253,
    "start_time": "2022-03-23T07:35:20.944Z"
   },
   {
    "duration": 260,
    "start_time": "2022-03-23T07:35:34.080Z"
   },
   {
    "duration": 239,
    "start_time": "2022-03-23T07:35:40.595Z"
   },
   {
    "duration": 293,
    "start_time": "2022-03-23T07:35:46.309Z"
   },
   {
    "duration": 283,
    "start_time": "2022-03-23T07:36:33.909Z"
   },
   {
    "duration": 411,
    "start_time": "2022-03-23T07:37:06.104Z"
   },
   {
    "duration": 237,
    "start_time": "2022-03-23T07:38:38.040Z"
   },
   {
    "duration": 7,
    "start_time": "2022-03-23T07:55:00.760Z"
   },
   {
    "duration": 244,
    "start_time": "2022-03-23T07:55:05.087Z"
   },
   {
    "duration": 170,
    "start_time": "2022-03-23T08:08:31.387Z"
   },
   {
    "duration": 239,
    "start_time": "2022-03-23T08:09:03.151Z"
   },
   {
    "duration": 261,
    "start_time": "2022-03-23T08:10:00.752Z"
   },
   {
    "duration": 273,
    "start_time": "2022-03-23T08:15:56.828Z"
   },
   {
    "duration": 255,
    "start_time": "2022-03-23T08:43:46.625Z"
   },
   {
    "duration": 428,
    "start_time": "2022-03-23T08:54:10.436Z"
   },
   {
    "duration": 260,
    "start_time": "2022-03-23T09:02:36.589Z"
   },
   {
    "duration": 276,
    "start_time": "2022-03-23T09:12:04.113Z"
   },
   {
    "duration": 272,
    "start_time": "2022-03-23T09:17:59.743Z"
   },
   {
    "duration": 8,
    "start_time": "2022-03-23T09:25:18.767Z"
   },
   {
    "duration": 30,
    "start_time": "2022-03-23T09:25:24.500Z"
   },
   {
    "duration": 1637,
    "start_time": "2022-03-23T09:25:48.151Z"
   },
   {
    "duration": 1757,
    "start_time": "2022-03-23T09:26:21.195Z"
   },
   {
    "duration": 1958,
    "start_time": "2022-03-23T09:27:16.512Z"
   },
   {
    "duration": 1644,
    "start_time": "2022-03-23T09:27:29.752Z"
   },
   {
    "duration": 1651,
    "start_time": "2022-03-23T09:28:18.224Z"
   },
   {
    "duration": 1777,
    "start_time": "2022-03-23T09:29:07.892Z"
   },
   {
    "duration": 1651,
    "start_time": "2022-03-23T09:29:37.932Z"
   },
   {
    "duration": 31420,
    "start_time": "2022-03-23T09:56:21.131Z"
   },
   {
    "duration": 22,
    "start_time": "2022-03-23T09:56:52.553Z"
   },
   {
    "duration": 51,
    "start_time": "2022-03-23T10:00:42.134Z"
   },
   {
    "duration": 14,
    "start_time": "2022-03-23T10:03:12.868Z"
   },
   {
    "duration": 19,
    "start_time": "2022-03-23T10:03:23.399Z"
   },
   {
    "duration": 58,
    "start_time": "2022-03-23T10:03:51.095Z"
   },
   {
    "duration": 19,
    "start_time": "2022-03-23T10:04:53.536Z"
   },
   {
    "duration": 4,
    "start_time": "2022-03-23T11:02:23.034Z"
   },
   {
    "duration": 18,
    "start_time": "2022-03-23T11:02:29.466Z"
   },
   {
    "duration": 13,
    "start_time": "2022-03-23T11:05:46.603Z"
   },
   {
    "duration": 825,
    "start_time": "2022-03-23T11:05:58.855Z"
   },
   {
    "duration": 6,
    "start_time": "2022-03-23T11:06:15.261Z"
   },
   {
    "duration": 8,
    "start_time": "2022-03-23T11:06:27.684Z"
   },
   {
    "duration": 28,
    "start_time": "2022-03-23T11:08:22.991Z"
   },
   {
    "duration": 30,
    "start_time": "2022-03-23T11:10:11.329Z"
   },
   {
    "duration": 50,
    "start_time": "2022-03-23T11:19:49.382Z"
   },
   {
    "duration": 31,
    "start_time": "2022-03-23T11:23:45.337Z"
   },
   {
    "duration": 7,
    "start_time": "2022-03-23T11:25:37.059Z"
   },
   {
    "duration": 19,
    "start_time": "2022-03-23T11:25:43.151Z"
   },
   {
    "duration": 19,
    "start_time": "2022-03-23T11:27:19.208Z"
   },
   {
    "duration": 18,
    "start_time": "2022-03-23T11:28:01.653Z"
   },
   {
    "duration": 19,
    "start_time": "2022-03-23T11:29:01.422Z"
   },
   {
    "duration": 19,
    "start_time": "2022-03-23T11:33:31.248Z"
   },
   {
    "duration": 8,
    "start_time": "2022-03-23T11:44:30.601Z"
   },
   {
    "duration": 5,
    "start_time": "2022-03-23T11:44:41.275Z"
   },
   {
    "duration": 19,
    "start_time": "2022-03-23T11:45:17.508Z"
   },
   {
    "duration": 20,
    "start_time": "2022-03-23T11:46:26.837Z"
   },
   {
    "duration": 10,
    "start_time": "2022-03-23T11:46:48.276Z"
   },
   {
    "duration": 12,
    "start_time": "2022-03-23T11:47:40.096Z"
   },
   {
    "duration": 5,
    "start_time": "2022-03-23T11:48:05.115Z"
   },
   {
    "duration": 5,
    "start_time": "2022-03-23T11:48:22.191Z"
   },
   {
    "duration": 11,
    "start_time": "2022-03-23T11:58:03.673Z"
   },
   {
    "duration": 15,
    "start_time": "2022-03-23T11:58:26.628Z"
   },
   {
    "duration": 14,
    "start_time": "2022-03-23T11:59:13.724Z"
   },
   {
    "duration": 13,
    "start_time": "2022-03-23T12:00:54.219Z"
   },
   {
    "duration": 15,
    "start_time": "2022-03-23T12:00:54.842Z"
   },
   {
    "duration": 16,
    "start_time": "2022-03-23T12:23:47.703Z"
   },
   {
    "duration": 8,
    "start_time": "2022-03-23T12:24:20.056Z"
   },
   {
    "duration": 17,
    "start_time": "2022-03-23T12:24:20.511Z"
   },
   {
    "duration": 18,
    "start_time": "2022-03-23T12:25:25.217Z"
   },
   {
    "duration": 17,
    "start_time": "2022-03-23T12:25:30.483Z"
   },
   {
    "duration": 12,
    "start_time": "2022-03-23T12:25:47.076Z"
   },
   {
    "duration": 6,
    "start_time": "2022-03-23T12:25:47.779Z"
   },
   {
    "duration": 16,
    "start_time": "2022-03-23T12:25:51.407Z"
   },
   {
    "duration": 5,
    "start_time": "2022-03-23T12:26:15.747Z"
   },
   {
    "duration": 16,
    "start_time": "2022-03-23T12:26:23.493Z"
   },
   {
    "duration": 6,
    "start_time": "2022-03-23T12:31:18.753Z"
   },
   {
    "duration": 265,
    "start_time": "2022-03-23T12:31:18.761Z"
   },
   {
    "duration": 16,
    "start_time": "2022-03-23T12:31:19.027Z"
   },
   {
    "duration": 48,
    "start_time": "2022-03-23T12:31:19.045Z"
   },
   {
    "duration": 2468,
    "start_time": "2022-03-23T12:31:19.094Z"
   },
   {
    "duration": 0,
    "start_time": "2022-03-23T12:31:21.564Z"
   },
   {
    "duration": 0,
    "start_time": "2022-03-23T12:31:21.565Z"
   },
   {
    "duration": 0,
    "start_time": "2022-03-23T12:31:21.566Z"
   },
   {
    "duration": 0,
    "start_time": "2022-03-23T12:31:21.567Z"
   },
   {
    "duration": 0,
    "start_time": "2022-03-23T12:31:21.569Z"
   },
   {
    "duration": 0,
    "start_time": "2022-03-23T12:31:21.570Z"
   },
   {
    "duration": 0,
    "start_time": "2022-03-23T12:31:21.571Z"
   },
   {
    "duration": 0,
    "start_time": "2022-03-23T12:31:21.572Z"
   },
   {
    "duration": 0,
    "start_time": "2022-03-23T12:31:21.573Z"
   },
   {
    "duration": 5,
    "start_time": "2022-03-23T12:32:13.608Z"
   },
   {
    "duration": 37,
    "start_time": "2022-03-23T12:32:13.615Z"
   },
   {
    "duration": 16,
    "start_time": "2022-03-23T12:32:13.653Z"
   },
   {
    "duration": 61,
    "start_time": "2022-03-23T12:32:13.671Z"
   },
   {
    "duration": 253,
    "start_time": "2022-03-23T12:32:13.733Z"
   },
   {
    "duration": 283,
    "start_time": "2022-03-23T12:32:13.988Z"
   },
   {
    "duration": 298,
    "start_time": "2022-03-23T12:32:14.273Z"
   },
   {
    "duration": 258,
    "start_time": "2022-03-23T12:32:14.573Z"
   },
   {
    "duration": 323,
    "start_time": "2022-03-23T12:32:14.834Z"
   },
   {
    "duration": 288,
    "start_time": "2022-03-23T12:32:15.159Z"
   },
   {
    "duration": 300,
    "start_time": "2022-03-23T12:32:15.449Z"
   },
   {
    "duration": 1642,
    "start_time": "2022-03-23T12:32:15.750Z"
   },
   {
    "duration": 17,
    "start_time": "2022-03-23T12:32:17.394Z"
   },
   {
    "duration": 37,
    "start_time": "2022-03-23T12:32:17.412Z"
   },
   {
    "duration": 23,
    "start_time": "2022-03-23T12:55:53.972Z"
   },
   {
    "duration": 27,
    "start_time": "2022-03-23T12:59:29.847Z"
   },
   {
    "duration": 5,
    "start_time": "2022-03-23T12:59:33.645Z"
   },
   {
    "duration": 48,
    "start_time": "2022-03-23T12:59:33.651Z"
   },
   {
    "duration": 19,
    "start_time": "2022-03-23T12:59:33.700Z"
   },
   {
    "duration": 50,
    "start_time": "2022-03-23T12:59:33.722Z"
   },
   {
    "duration": 269,
    "start_time": "2022-03-23T12:59:33.774Z"
   },
   {
    "duration": 292,
    "start_time": "2022-03-23T12:59:34.045Z"
   },
   {
    "duration": 284,
    "start_time": "2022-03-23T12:59:34.339Z"
   },
   {
    "duration": 254,
    "start_time": "2022-03-23T12:59:34.625Z"
   },
   {
    "duration": 324,
    "start_time": "2022-03-23T12:59:34.880Z"
   },
   {
    "duration": 300,
    "start_time": "2022-03-23T12:59:35.208Z"
   },
   {
    "duration": 288,
    "start_time": "2022-03-23T12:59:35.510Z"
   },
   {
    "duration": 1673,
    "start_time": "2022-03-23T12:59:35.800Z"
   },
   {
    "duration": 18,
    "start_time": "2022-03-23T12:59:37.474Z"
   },
   {
    "duration": 37,
    "start_time": "2022-03-23T12:59:37.494Z"
   },
   {
    "duration": 23,
    "start_time": "2022-03-23T13:00:08.381Z"
   },
   {
    "duration": 5,
    "start_time": "2022-03-23T13:05:39.030Z"
   },
   {
    "duration": 24,
    "start_time": "2022-03-23T13:07:10.396Z"
   },
   {
    "duration": 5,
    "start_time": "2022-03-23T13:08:12.761Z"
   },
   {
    "duration": 5,
    "start_time": "2022-03-23T13:08:41.084Z"
   },
   {
    "duration": 25,
    "start_time": "2022-03-23T13:08:46.519Z"
   },
   {
    "duration": 5,
    "start_time": "2022-03-23T13:08:47.243Z"
   },
   {
    "duration": 21,
    "start_time": "2022-03-23T13:11:11.087Z"
   },
   {
    "duration": 30,
    "start_time": "2022-03-23T13:11:31.724Z"
   },
   {
    "duration": 23,
    "start_time": "2022-03-23T13:12:57.603Z"
   },
   {
    "duration": 24,
    "start_time": "2022-03-23T13:13:18.665Z"
   },
   {
    "duration": 5,
    "start_time": "2022-03-23T13:13:53.511Z"
   },
   {
    "duration": 5,
    "start_time": "2022-03-23T13:14:08.094Z"
   },
   {
    "duration": 6,
    "start_time": "2022-03-23T13:14:50.016Z"
   },
   {
    "duration": 26,
    "start_time": "2022-03-23T13:16:52.080Z"
   },
   {
    "duration": 403,
    "start_time": "2022-03-23T13:17:35.552Z"
   },
   {
    "duration": 25,
    "start_time": "2022-03-23T13:28:29.048Z"
   },
   {
    "duration": 24,
    "start_time": "2022-03-23T13:28:59.457Z"
   },
   {
    "duration": 5,
    "start_time": "2022-03-23T13:29:16.808Z"
   },
   {
    "duration": 5,
    "start_time": "2022-03-23T13:29:21.648Z"
   },
   {
    "duration": 1583,
    "start_time": "2022-03-23T13:29:37.580Z"
   },
   {
    "duration": 37,
    "start_time": "2022-03-23T13:29:39.165Z"
   },
   {
    "duration": 18,
    "start_time": "2022-03-23T13:29:39.204Z"
   },
   {
    "duration": 55,
    "start_time": "2022-03-23T13:29:39.224Z"
   },
   {
    "duration": 267,
    "start_time": "2022-03-23T13:29:39.280Z"
   },
   {
    "duration": 290,
    "start_time": "2022-03-23T13:29:39.549Z"
   },
   {
    "duration": 357,
    "start_time": "2022-03-23T13:29:39.841Z"
   },
   {
    "duration": 249,
    "start_time": "2022-03-23T13:29:40.200Z"
   },
   {
    "duration": 297,
    "start_time": "2022-03-23T13:29:40.451Z"
   },
   {
    "duration": 275,
    "start_time": "2022-03-23T13:29:40.750Z"
   },
   {
    "duration": 275,
    "start_time": "2022-03-23T13:29:41.031Z"
   },
   {
    "duration": 1756,
    "start_time": "2022-03-23T13:29:41.308Z"
   },
   {
    "duration": 18,
    "start_time": "2022-03-23T13:29:43.065Z"
   },
   {
    "duration": 131,
    "start_time": "2022-03-23T13:29:43.084Z"
   },
   {
    "duration": 0,
    "start_time": "2022-03-23T13:29:43.217Z"
   },
   {
    "duration": 6,
    "start_time": "2022-03-23T13:30:01.670Z"
   },
   {
    "duration": 5,
    "start_time": "2022-03-23T13:30:14.036Z"
   },
   {
    "duration": 6,
    "start_time": "2022-03-23T13:30:20.342Z"
   },
   {
    "duration": 5,
    "start_time": "2022-03-23T13:30:25.770Z"
   },
   {
    "duration": 4,
    "start_time": "2022-03-23T13:30:35.763Z"
   },
   {
    "duration": 5,
    "start_time": "2022-03-23T13:30:40.674Z"
   },
   {
    "duration": 11,
    "start_time": "2022-03-23T13:30:47.797Z"
   },
   {
    "duration": 9,
    "start_time": "2022-03-23T13:30:52.242Z"
   },
   {
    "duration": 24,
    "start_time": "2022-03-23T13:31:09.979Z"
   },
   {
    "duration": 23,
    "start_time": "2022-03-23T13:31:21.752Z"
   },
   {
    "duration": 23,
    "start_time": "2022-03-23T13:32:42.535Z"
   },
   {
    "duration": 23,
    "start_time": "2022-03-23T13:32:54.507Z"
   },
   {
    "duration": 23,
    "start_time": "2022-03-23T13:37:19.317Z"
   },
   {
    "duration": 5,
    "start_time": "2022-03-23T13:37:33.948Z"
   },
   {
    "duration": 5,
    "start_time": "2022-03-23T13:38:16.839Z"
   },
   {
    "duration": 56,
    "start_time": "2022-03-23T13:38:16.846Z"
   },
   {
    "duration": 20,
    "start_time": "2022-03-23T13:38:16.904Z"
   },
   {
    "duration": 52,
    "start_time": "2022-03-23T13:38:16.925Z"
   },
   {
    "duration": 268,
    "start_time": "2022-03-23T13:38:16.979Z"
   },
   {
    "duration": 284,
    "start_time": "2022-03-23T13:38:17.249Z"
   },
   {
    "duration": 279,
    "start_time": "2022-03-23T13:38:17.535Z"
   },
   {
    "duration": 268,
    "start_time": "2022-03-23T13:38:17.816Z"
   },
   {
    "duration": 311,
    "start_time": "2022-03-23T13:38:18.087Z"
   },
   {
    "duration": 418,
    "start_time": "2022-03-23T13:38:18.399Z"
   },
   {
    "duration": 297,
    "start_time": "2022-03-23T13:38:18.819Z"
   },
   {
    "duration": 1650,
    "start_time": "2022-03-23T13:38:19.117Z"
   },
   {
    "duration": 19,
    "start_time": "2022-03-23T13:38:20.769Z"
   },
   {
    "duration": 22,
    "start_time": "2022-03-23T13:38:20.791Z"
   },
   {
    "duration": 0,
    "start_time": "2022-03-23T13:38:20.832Z"
   },
   {
    "duration": 19,
    "start_time": "2022-03-23T13:38:25.290Z"
   },
   {
    "duration": 24,
    "start_time": "2022-03-23T13:38:38.174Z"
   },
   {
    "duration": 5,
    "start_time": "2022-03-23T13:38:39.029Z"
   },
   {
    "duration": 25,
    "start_time": "2022-03-23T13:57:11.268Z"
   },
   {
    "duration": 24,
    "start_time": "2022-03-23T13:57:35.355Z"
   },
   {
    "duration": 22,
    "start_time": "2022-03-23T13:59:57.044Z"
   },
   {
    "duration": 5,
    "start_time": "2022-03-24T07:08:46.000Z"
   },
   {
    "duration": 36,
    "start_time": "2022-03-24T07:08:46.007Z"
   },
   {
    "duration": 20,
    "start_time": "2022-03-24T07:08:46.044Z"
   },
   {
    "duration": 71,
    "start_time": "2022-03-24T07:08:46.066Z"
   },
   {
    "duration": 262,
    "start_time": "2022-03-24T07:08:46.139Z"
   },
   {
    "duration": 280,
    "start_time": "2022-03-24T07:08:46.403Z"
   },
   {
    "duration": 299,
    "start_time": "2022-03-24T07:08:46.685Z"
   },
   {
    "duration": 363,
    "start_time": "2022-03-24T07:08:46.986Z"
   },
   {
    "duration": 314,
    "start_time": "2022-03-24T07:08:47.351Z"
   },
   {
    "duration": 284,
    "start_time": "2022-03-24T07:08:47.667Z"
   },
   {
    "duration": 281,
    "start_time": "2022-03-24T07:08:47.953Z"
   },
   {
    "duration": 1618,
    "start_time": "2022-03-24T07:08:48.235Z"
   },
   {
    "duration": 19,
    "start_time": "2022-03-24T07:08:49.854Z"
   },
   {
    "duration": 59,
    "start_time": "2022-03-24T07:08:49.874Z"
   },
   {
    "duration": 8,
    "start_time": "2022-03-24T07:08:57.579Z"
   },
   {
    "duration": 5,
    "start_time": "2022-03-24T07:09:26.595Z"
   },
   {
    "duration": 12,
    "start_time": "2022-03-24T07:09:42.719Z"
   },
   {
    "duration": 34,
    "start_time": "2022-03-24T07:10:42.639Z"
   },
   {
    "duration": 5,
    "start_time": "2022-03-24T07:14:00.756Z"
   },
   {
    "duration": 588,
    "start_time": "2022-03-24T07:22:11.342Z"
   },
   {
    "duration": 588,
    "start_time": "2022-03-24T07:27:25.242Z"
   },
   {
    "duration": 5,
    "start_time": "2022-03-24T07:27:47.848Z"
   },
   {
    "duration": 570,
    "start_time": "2022-03-24T07:27:54.959Z"
   },
   {
    "duration": 635,
    "start_time": "2022-03-24T07:29:21.396Z"
   },
   {
    "duration": 6,
    "start_time": "2022-03-24T07:29:30.200Z"
   },
   {
    "duration": 59,
    "start_time": "2022-03-24T07:29:30.208Z"
   },
   {
    "duration": 18,
    "start_time": "2022-03-24T07:29:30.269Z"
   },
   {
    "duration": 66,
    "start_time": "2022-03-24T07:29:30.289Z"
   },
   {
    "duration": 362,
    "start_time": "2022-03-24T07:29:30.357Z"
   },
   {
    "duration": 284,
    "start_time": "2022-03-24T07:29:30.721Z"
   },
   {
    "duration": 294,
    "start_time": "2022-03-24T07:29:31.006Z"
   },
   {
    "duration": 268,
    "start_time": "2022-03-24T07:29:31.302Z"
   },
   {
    "duration": 359,
    "start_time": "2022-03-24T07:29:31.573Z"
   },
   {
    "duration": 291,
    "start_time": "2022-03-24T07:29:31.933Z"
   },
   {
    "duration": 416,
    "start_time": "2022-03-24T07:29:32.225Z"
   },
   {
    "duration": 1633,
    "start_time": "2022-03-24T07:29:32.643Z"
   },
   {
    "duration": 19,
    "start_time": "2022-03-24T07:29:34.277Z"
   },
   {
    "duration": 623,
    "start_time": "2022-03-24T07:29:34.298Z"
   },
   {
    "duration": 5,
    "start_time": "2022-03-24T07:30:42.216Z"
   },
   {
    "duration": 585,
    "start_time": "2022-03-24T07:31:08.347Z"
   },
   {
    "duration": 614,
    "start_time": "2022-03-24T07:31:54.815Z"
   },
   {
    "duration": 588,
    "start_time": "2022-03-24T07:35:04.831Z"
   },
   {
    "duration": 598,
    "start_time": "2022-03-24T07:35:22.533Z"
   },
   {
    "duration": 617,
    "start_time": "2022-03-24T07:36:39.425Z"
   },
   {
    "duration": 24,
    "start_time": "2022-03-24T08:44:15.005Z"
   },
   {
    "duration": 5,
    "start_time": "2022-03-24T08:44:53.847Z"
   },
   {
    "duration": 573,
    "start_time": "2022-03-24T08:51:05.352Z"
   },
   {
    "duration": 123225,
    "start_time": "2022-03-24T08:53:18.304Z"
   },
   {
    "duration": 1616,
    "start_time": "2022-03-24T08:57:12.225Z"
   },
   {
    "duration": 5,
    "start_time": "2022-03-24T08:58:34.625Z"
   },
   {
    "duration": 1680,
    "start_time": "2022-03-24T08:59:21.762Z"
   },
   {
    "duration": 1708,
    "start_time": "2022-03-24T09:01:45.030Z"
   },
   {
    "duration": 22,
    "start_time": "2022-03-24T09:01:46.741Z"
   },
   {
    "duration": 1514,
    "start_time": "2022-03-24T09:02:22.742Z"
   },
   {
    "duration": 1790,
    "start_time": "2022-03-24T09:28:30.855Z"
   },
   {
    "duration": 1671,
    "start_time": "2022-03-24T09:28:44.583Z"
   },
   {
    "duration": 1541,
    "start_time": "2022-03-24T09:31:06.406Z"
   },
   {
    "duration": 1576,
    "start_time": "2022-03-24T09:33:53.171Z"
   },
   {
    "duration": 1456,
    "start_time": "2022-03-24T09:34:44.709Z"
   },
   {
    "duration": 1468,
    "start_time": "2022-03-24T09:35:09.884Z"
   },
   {
    "duration": 1579,
    "start_time": "2022-03-24T09:35:21.002Z"
   },
   {
    "duration": 1727,
    "start_time": "2022-03-24T09:36:34.633Z"
   },
   {
    "duration": 1620,
    "start_time": "2022-03-24T09:37:38.743Z"
   },
   {
    "duration": 1364,
    "start_time": "2022-03-24T09:37:49.688Z"
   },
   {
    "duration": 1658,
    "start_time": "2022-03-24T09:38:18.096Z"
   },
   {
    "duration": 5,
    "start_time": "2022-03-24T10:17:13.583Z"
   },
   {
    "duration": 48,
    "start_time": "2022-03-24T10:17:13.591Z"
   },
   {
    "duration": 17,
    "start_time": "2022-03-24T10:17:13.641Z"
   },
   {
    "duration": 49,
    "start_time": "2022-03-24T10:17:13.662Z"
   },
   {
    "duration": 269,
    "start_time": "2022-03-24T10:17:13.712Z"
   },
   {
    "duration": 511,
    "start_time": "2022-03-24T10:17:13.983Z"
   },
   {
    "duration": 285,
    "start_time": "2022-03-24T10:17:14.496Z"
   },
   {
    "duration": 261,
    "start_time": "2022-03-24T10:17:14.784Z"
   },
   {
    "duration": 326,
    "start_time": "2022-03-24T10:17:15.049Z"
   },
   {
    "duration": 296,
    "start_time": "2022-03-24T10:17:15.377Z"
   },
   {
    "duration": 291,
    "start_time": "2022-03-24T10:17:15.675Z"
   },
   {
    "duration": 1874,
    "start_time": "2022-03-24T10:17:15.968Z"
   },
   {
    "duration": 17,
    "start_time": "2022-03-24T10:17:17.844Z"
   },
   {
    "duration": 557,
    "start_time": "2022-03-24T10:17:17.863Z"
   },
   {
    "duration": 124283,
    "start_time": "2022-03-24T10:17:18.422Z"
   },
   {
    "duration": 1637,
    "start_time": "2022-03-24T10:19:22.708Z"
   },
   {
    "duration": 5,
    "start_time": "2022-03-24T10:50:23.220Z"
   },
   {
    "duration": 72,
    "start_time": "2022-03-24T10:50:23.228Z"
   },
   {
    "duration": 24,
    "start_time": "2022-03-24T10:50:23.302Z"
   },
   {
    "duration": 58,
    "start_time": "2022-03-24T10:50:23.328Z"
   },
   {
    "duration": 235,
    "start_time": "2022-03-24T10:50:23.388Z"
   },
   {
    "duration": 268,
    "start_time": "2022-03-24T10:50:23.624Z"
   },
   {
    "duration": 270,
    "start_time": "2022-03-24T10:50:23.894Z"
   },
   {
    "duration": 248,
    "start_time": "2022-03-24T10:50:24.165Z"
   },
   {
    "duration": 310,
    "start_time": "2022-03-24T10:50:24.415Z"
   },
   {
    "duration": 540,
    "start_time": "2022-03-24T10:50:24.731Z"
   },
   {
    "duration": 277,
    "start_time": "2022-03-24T10:50:25.272Z"
   },
   {
    "duration": 1604,
    "start_time": "2022-03-24T10:50:25.552Z"
   },
   {
    "duration": 20,
    "start_time": "2022-03-24T10:50:27.158Z"
   },
   {
    "duration": 517,
    "start_time": "2022-03-24T10:50:27.180Z"
   },
   {
    "duration": 1626,
    "start_time": "2022-03-24T10:50:32.821Z"
   },
   {
    "duration": 1655,
    "start_time": "2022-03-24T10:50:39.591Z"
   },
   {
    "duration": 19,
    "start_time": "2022-03-24T12:40:55.486Z"
   },
   {
    "duration": 13,
    "start_time": "2022-03-24T12:43:53.807Z"
   },
   {
    "duration": 102,
    "start_time": "2022-03-24T12:45:20.393Z"
   },
   {
    "duration": 93,
    "start_time": "2022-03-24T12:45:40.479Z"
   },
   {
    "duration": 112,
    "start_time": "2022-03-24T12:46:20.849Z"
   },
   {
    "duration": 184,
    "start_time": "2022-03-24T12:46:49.412Z"
   },
   {
    "duration": 503,
    "start_time": "2022-03-24T12:47:55.172Z"
   },
   {
    "duration": 718,
    "start_time": "2022-03-24T12:48:38.235Z"
   },
   {
    "duration": 695,
    "start_time": "2022-03-24T12:49:12.725Z"
   },
   {
    "duration": 717,
    "start_time": "2022-03-24T12:50:31.343Z"
   },
   {
    "duration": 629,
    "start_time": "2022-03-24T12:50:46.291Z"
   },
   {
    "duration": 619,
    "start_time": "2022-03-24T12:51:15.409Z"
   },
   {
    "duration": 596,
    "start_time": "2022-03-24T12:51:47.604Z"
   },
   {
    "duration": 770,
    "start_time": "2022-03-24T12:52:35.220Z"
   },
   {
    "duration": 1196,
    "start_time": "2022-03-24T12:54:40.219Z"
   },
   {
    "duration": 1272,
    "start_time": "2022-03-24T12:55:23.261Z"
   },
   {
    "duration": 1178,
    "start_time": "2022-03-24T12:56:05.040Z"
   },
   {
    "duration": 1342,
    "start_time": "2022-03-24T12:56:53.953Z"
   },
   {
    "duration": 2049,
    "start_time": "2022-03-24T12:59:31.605Z"
   },
   {
    "duration": 2811,
    "start_time": "2022-03-24T13:01:42.006Z"
   },
   {
    "duration": 3405,
    "start_time": "2022-03-24T13:05:25.291Z"
   },
   {
    "duration": 10,
    "start_time": "2022-03-24T13:29:51.741Z"
   },
   {
    "duration": 11,
    "start_time": "2022-03-24T13:30:13.461Z"
   },
   {
    "duration": 14,
    "start_time": "2022-03-24T13:30:38.572Z"
   },
   {
    "duration": 5,
    "start_time": "2022-03-24T13:34:29.903Z"
   },
   {
    "duration": 553,
    "start_time": "2022-03-24T13:35:04.083Z"
   },
   {
    "duration": 25,
    "start_time": "2022-03-24T14:34:57.537Z"
   },
   {
    "duration": 30,
    "start_time": "2022-03-24T14:36:08.033Z"
   },
   {
    "duration": 25,
    "start_time": "2022-03-24T14:52:09.031Z"
   },
   {
    "duration": 15,
    "start_time": "2022-03-24T14:52:42.525Z"
   },
   {
    "duration": 126,
    "start_time": "2022-03-24T14:53:55.847Z"
   },
   {
    "duration": 20,
    "start_time": "2022-03-24T14:54:03.542Z"
   },
   {
    "duration": 20,
    "start_time": "2022-03-24T14:56:53.186Z"
   },
   {
    "duration": 71,
    "start_time": "2022-03-25T08:16:35.512Z"
   },
   {
    "duration": 2507,
    "start_time": "2022-03-25T08:16:45.702Z"
   },
   {
    "duration": 40,
    "start_time": "2022-03-25T08:16:48.212Z"
   },
   {
    "duration": 42,
    "start_time": "2022-03-25T08:16:48.254Z"
   },
   {
    "duration": 62,
    "start_time": "2022-03-25T08:16:49.088Z"
   },
   {
    "duration": 73,
    "start_time": "2022-03-25T10:44:37.971Z"
   },
   {
    "duration": 2388,
    "start_time": "2022-03-25T10:44:51.330Z"
   },
   {
    "duration": 195,
    "start_time": "2022-03-25T10:44:53.721Z"
   },
   {
    "duration": 29,
    "start_time": "2022-03-25T10:44:53.919Z"
   },
   {
    "duration": 88,
    "start_time": "2022-03-25T10:44:53.952Z"
   },
   {
    "duration": 399,
    "start_time": "2022-03-25T10:45:08.936Z"
   },
   {
    "duration": 741,
    "start_time": "2022-03-25T10:46:12.095Z"
   },
   {
    "duration": 598,
    "start_time": "2022-03-25T10:47:36.471Z"
   },
   {
    "duration": 580,
    "start_time": "2022-03-25T10:55:35.689Z"
   },
   {
    "duration": 488,
    "start_time": "2022-03-25T10:56:44.614Z"
   },
   {
    "duration": 439,
    "start_time": "2022-03-25T10:57:35.534Z"
   },
   {
    "duration": 430,
    "start_time": "2022-03-25T10:59:24.167Z"
   },
   {
    "duration": 717,
    "start_time": "2022-03-25T11:03:54.857Z"
   },
   {
    "duration": 2436,
    "start_time": "2022-03-25T11:05:29.000Z"
   },
   {
    "duration": 35,
    "start_time": "2022-03-25T11:05:38.128Z"
   },
   {
    "duration": 523,
    "start_time": "2022-03-25T11:13:27.959Z"
   },
   {
    "duration": 747,
    "start_time": "2022-03-25T11:14:09.717Z"
   },
   {
    "duration": 7,
    "start_time": "2022-03-25T11:22:02.972Z"
   },
   {
    "duration": 130,
    "start_time": "2022-03-25T11:50:16.310Z"
   },
   {
    "duration": 135,
    "start_time": "2022-03-25T11:50:32.134Z"
   },
   {
    "duration": 750,
    "start_time": "2022-03-25T11:51:05.536Z"
   },
   {
    "duration": 1217,
    "start_time": "2022-03-25T11:52:05.367Z"
   },
   {
    "duration": 1111,
    "start_time": "2022-03-25T11:58:51.767Z"
   },
   {
    "duration": 1153,
    "start_time": "2022-03-25T12:00:08.977Z"
   },
   {
    "duration": 1162,
    "start_time": "2022-03-25T12:00:48.630Z"
   },
   {
    "duration": 484,
    "start_time": "2022-03-25T12:03:18.316Z"
   },
   {
    "duration": 473,
    "start_time": "2022-03-25T12:13:53.459Z"
   },
   {
    "duration": 164,
    "start_time": "2022-03-25T12:19:35.357Z"
   },
   {
    "duration": 409,
    "start_time": "2022-03-25T12:19:40.115Z"
   },
   {
    "duration": 7,
    "start_time": "2022-03-25T12:21:58.336Z"
   },
   {
    "duration": 219,
    "start_time": "2022-03-25T12:22:17.577Z"
   },
   {
    "duration": 1097,
    "start_time": "2022-03-25T12:22:47.528Z"
   },
   {
    "duration": 1013,
    "start_time": "2022-03-25T12:26:09.904Z"
   },
   {
    "duration": 1032,
    "start_time": "2022-03-25T12:26:30.578Z"
   },
   {
    "duration": 1001,
    "start_time": "2022-03-25T12:41:01.032Z"
   },
   {
    "duration": 8,
    "start_time": "2022-03-25T12:41:51.700Z"
   },
   {
    "duration": 55,
    "start_time": "2022-03-25T12:41:51.711Z"
   },
   {
    "duration": 34,
    "start_time": "2022-03-25T12:41:51.769Z"
   },
   {
    "duration": 117,
    "start_time": "2022-03-25T12:41:51.807Z"
   },
   {
    "duration": 599,
    "start_time": "2022-03-25T12:41:51.927Z"
   },
   {
    "duration": 666,
    "start_time": "2022-03-25T12:41:52.529Z"
   },
   {
    "duration": 429,
    "start_time": "2022-03-25T12:41:53.198Z"
   },
   {
    "duration": 382,
    "start_time": "2022-03-25T12:41:53.630Z"
   },
   {
    "duration": 658,
    "start_time": "2022-03-25T12:41:54.016Z"
   },
   {
    "duration": 701,
    "start_time": "2022-03-25T12:41:54.677Z"
   },
   {
    "duration": 693,
    "start_time": "2022-03-25T12:41:55.385Z"
   },
   {
    "duration": 2164,
    "start_time": "2022-03-25T12:41:56.085Z"
   },
   {
    "duration": 42,
    "start_time": "2022-03-25T12:41:58.252Z"
   },
   {
    "duration": 1122,
    "start_time": "2022-03-25T12:41:58.297Z"
   },
   {
    "duration": 1732,
    "start_time": "2022-03-28T13:01:04.667Z"
   },
   {
    "duration": 39,
    "start_time": "2022-03-28T13:01:06.401Z"
   },
   {
    "duration": 19,
    "start_time": "2022-03-28T13:01:06.442Z"
   },
   {
    "duration": 69,
    "start_time": "2022-03-28T13:01:06.463Z"
   },
   {
    "duration": 265,
    "start_time": "2022-03-28T13:01:06.534Z"
   },
   {
    "duration": 284,
    "start_time": "2022-03-28T13:01:06.800Z"
   },
   {
    "duration": 350,
    "start_time": "2022-03-28T13:01:07.086Z"
   },
   {
    "duration": 248,
    "start_time": "2022-03-28T13:01:07.438Z"
   },
   {
    "duration": 309,
    "start_time": "2022-03-28T13:01:07.688Z"
   },
   {
    "duration": 298,
    "start_time": "2022-03-28T13:01:08.000Z"
   },
   {
    "duration": 292,
    "start_time": "2022-03-28T13:01:08.300Z"
   },
   {
    "duration": 1838,
    "start_time": "2022-03-28T13:01:08.594Z"
   },
   {
    "duration": 19,
    "start_time": "2022-03-28T13:01:10.434Z"
   },
   {
    "duration": 753,
    "start_time": "2022-03-28T13:01:10.455Z"
   },
   {
    "duration": 123418,
    "start_time": "2022-03-28T13:01:11.209Z"
   },
   {
    "duration": 1517,
    "start_time": "2022-03-28T13:03:14.630Z"
   },
   {
    "duration": 141,
    "start_time": "2022-03-28T13:03:16.149Z"
   },
   {
    "duration": 0,
    "start_time": "2022-03-28T13:03:16.292Z"
   },
   {
    "duration": 14,
    "start_time": "2022-03-28T13:08:01.060Z"
   },
   {
    "duration": 185,
    "start_time": "2022-03-28T13:09:05.503Z"
   },
   {
    "duration": 175,
    "start_time": "2022-03-28T13:09:45.659Z"
   }
  ],
  "kernelspec": {
   "display_name": "Python 3 (ipykernel)",
   "language": "python",
   "name": "python3"
  },
  "language_info": {
   "codemirror_mode": {
    "name": "ipython",
    "version": 3
   },
   "file_extension": ".py",
   "mimetype": "text/x-python",
   "name": "python",
   "nbconvert_exporter": "python",
   "pygments_lexer": "ipython3",
   "version": "3.9.5"
  },
  "toc": {
   "base_numbering": 1,
   "nav_menu": {},
   "number_sections": true,
   "sideBar": true,
   "skip_h1_title": true,
   "title_cell": "Table of Contents",
   "title_sidebar": "Contents",
   "toc_cell": false,
   "toc_position": {},
   "toc_section_display": true,
   "toc_window_display": false
  }
 },
 "nbformat": 4,
 "nbformat_minor": 2
}
